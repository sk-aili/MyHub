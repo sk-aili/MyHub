{
  "cells": [
    {
      "cell_type": "markdown",
      "metadata": {
        "id": "view-in-github",
        "colab_type": "text"
      },
      "source": [
        "<a href=\"https://colab.research.google.com/github/sk-aili/Practice/blob/main/simple_linear_regression.ipynb\" target=\"_parent\"><img src=\"https://colab.research.google.com/assets/colab-badge.svg\" alt=\"Open In Colab\"/></a>"
      ]
    },
    {
      "cell_type": "markdown",
      "metadata": {
        "id": "IUHuV7QQKQrD"
      },
      "source": [
        "# Simple Linear Regression"
      ]
    },
    {
      "cell_type": "code",
      "execution_count": null,
      "metadata": {
        "id": "VEqOegKHKQrK"
      },
      "outputs": [],
      "source": [
        "# Creating virtual environment\n",
        "%pip install virtualenv\n",
        "%python<version> -m venv <virtual-environment-name>\n",
        "%source env/bin/activate"
      ]
    },
    {
      "cell_type": "code",
      "execution_count": null,
      "metadata": {
        "id": "fKF8yVy1KQrM"
      },
      "outputs": [],
      "source": [
        "import warnings\n",
        "warnings.filterwarnings('ignore')"
      ]
    },
    {
      "cell_type": "code",
      "execution_count": null,
      "metadata": {
        "id": "ccmB2mVSKQrN"
      },
      "outputs": [],
      "source": [
        "# import required packages\n",
        "import pandas as pd\n",
        "import numpy as np\n",
        "import matplotlib.pyplot as plt\n",
        "from sklearn.model_selection import train_test_split\n",
        "from sklearn import linear_model\n",
        "import statsmodels.api as sm\n",
        "import seaborn as sns\n",
        "from scipy import stats\n",
        "import scipy\n",
        "from matplotlib.pyplot import figure"
      ]
    },
    {
      "cell_type": "code",
      "execution_count": null,
      "metadata": {
        "id": "HX4tiSSuKQrN"
      },
      "outputs": [],
      "source": [
        "# load the data from the /input folder\n",
        "soccer_data = \"../input/EPL_Soccer_MLR_LR.csv\"\n",
        "df = pd.read_csv(soccer_data)"
      ]
    },
    {
      "cell_type": "code",
      "execution_count": null,
      "metadata": {
        "id": "VzOqFLLWKQrO",
        "outputId": "0a8435cd-dfb6-4dd1-bf48-10ca01398295"
      },
      "outputs": [
        {
          "data": {
            "text/html": [
              "<div>\n",
              "<style scoped>\n",
              "    .dataframe tbody tr th:only-of-type {\n",
              "        vertical-align: middle;\n",
              "    }\n",
              "\n",
              "    .dataframe tbody tr th {\n",
              "        vertical-align: top;\n",
              "    }\n",
              "\n",
              "    .dataframe thead th {\n",
              "        text-align: right;\n",
              "    }\n",
              "</style>\n",
              "<table border=\"1\" class=\"dataframe\">\n",
              "  <thead>\n",
              "    <tr style=\"text-align: right;\">\n",
              "      <th></th>\n",
              "      <th>PlayerName</th>\n",
              "      <th>Club</th>\n",
              "      <th>DistanceCovered(InKms)</th>\n",
              "      <th>Goals</th>\n",
              "      <th>MinutestoGoalRatio</th>\n",
              "      <th>ShotsPerGame</th>\n",
              "      <th>AgentCharges</th>\n",
              "      <th>BMI</th>\n",
              "      <th>Cost</th>\n",
              "      <th>PreviousClubCost</th>\n",
              "      <th>Height</th>\n",
              "      <th>Weight</th>\n",
              "      <th>Score</th>\n",
              "    </tr>\n",
              "  </thead>\n",
              "  <tbody>\n",
              "    <tr>\n",
              "      <th>0</th>\n",
              "      <td>Braund, Mr. Owen Harris</td>\n",
              "      <td>MUN</td>\n",
              "      <td>3.96</td>\n",
              "      <td>7.5</td>\n",
              "      <td>37.5</td>\n",
              "      <td>12.3</td>\n",
              "      <td>60</td>\n",
              "      <td>20.56</td>\n",
              "      <td>109.1</td>\n",
              "      <td>63.32</td>\n",
              "      <td>195.9</td>\n",
              "      <td>78.9</td>\n",
              "      <td>19.75</td>\n",
              "    </tr>\n",
              "    <tr>\n",
              "      <th>1</th>\n",
              "      <td>Allen, Mr. William Henry</td>\n",
              "      <td>MUN</td>\n",
              "      <td>4.41</td>\n",
              "      <td>8.3</td>\n",
              "      <td>38.2</td>\n",
              "      <td>12.7</td>\n",
              "      <td>68</td>\n",
              "      <td>20.67</td>\n",
              "      <td>102.8</td>\n",
              "      <td>58.55</td>\n",
              "      <td>189.7</td>\n",
              "      <td>74.4</td>\n",
              "      <td>21.30</td>\n",
              "    </tr>\n",
              "    <tr>\n",
              "      <th>2</th>\n",
              "      <td>Moran, Mr. James</td>\n",
              "      <td>MUN</td>\n",
              "      <td>4.14</td>\n",
              "      <td>5.0</td>\n",
              "      <td>36.4</td>\n",
              "      <td>11.6</td>\n",
              "      <td>21</td>\n",
              "      <td>21.86</td>\n",
              "      <td>104.6</td>\n",
              "      <td>55.36</td>\n",
              "      <td>177.8</td>\n",
              "      <td>69.1</td>\n",
              "      <td>19.88</td>\n",
              "    </tr>\n",
              "  </tbody>\n",
              "</table>\n",
              "</div>"
            ],
            "text/plain": [
              "                 PlayerName Club  DistanceCovered(InKms)  Goals   \n",
              "0   Braund, Mr. Owen Harris  MUN                    3.96    7.5  \\\n",
              "1  Allen, Mr. William Henry  MUN                    4.41    8.3   \n",
              "2          Moran, Mr. James  MUN                    4.14    5.0   \n",
              "\n",
              "   MinutestoGoalRatio  ShotsPerGame  AgentCharges    BMI   Cost   \n",
              "0                37.5          12.3            60  20.56  109.1  \\\n",
              "1                38.2          12.7            68  20.67  102.8   \n",
              "2                36.4          11.6            21  21.86  104.6   \n",
              "\n",
              "   PreviousClubCost  Height  Weight  Score  \n",
              "0             63.32   195.9    78.9  19.75  \n",
              "1             58.55   189.7    74.4  21.30  \n",
              "2             55.36   177.8    69.1  19.88  "
            ]
          },
          "execution_count": 4,
          "metadata": {},
          "output_type": "execute_result"
        }
      ],
      "source": [
        "# view top 3 observations from the soccer data\n",
        "df.head(3)"
      ]
    },
    {
      "cell_type": "code",
      "execution_count": null,
      "metadata": {
        "id": "ycEYoGj8KQrO",
        "outputId": "9a9c6e7a-a8ae-48a5-af13-578fdc03ad2d"
      },
      "outputs": [
        {
          "data": {
            "text/plain": [
              "Index(['PlayerName', 'Club', 'DistanceCovered(InKms)', 'Goals',\n",
              "       'MinutestoGoalRatio', 'ShotsPerGame', 'AgentCharges', 'BMI', 'Cost',\n",
              "       'PreviousClubCost', 'Height', 'Weight', 'Score'],\n",
              "      dtype='object')"
            ]
          },
          "execution_count": 7,
          "metadata": {},
          "output_type": "execute_result"
        }
      ],
      "source": [
        "# list out the columns\n",
        "df.columns"
      ]
    },
    {
      "cell_type": "markdown",
      "metadata": {
        "id": "3vuqVnKVKQrP"
      },
      "source": [
        "**Exploratory Data Analysis**"
      ]
    },
    {
      "cell_type": "code",
      "execution_count": null,
      "metadata": {
        "id": "L4nrBHEUKQrQ",
        "outputId": "cf866bf8-1861-4372-e132-a83b7bc8d63f"
      },
      "outputs": [
        {
          "name": "stdout",
          "output_type": "stream",
          "text": [
            "<class 'pandas.core.frame.DataFrame'>\n",
            "RangeIndex: 202 entries, 0 to 201\n",
            "Data columns (total 13 columns):\n",
            " #   Column                  Non-Null Count  Dtype  \n",
            "---  ------                  --------------  -----  \n",
            " 0   PlayerName              202 non-null    object \n",
            " 1   Club                    202 non-null    object \n",
            " 2   DistanceCovered(InKms)  202 non-null    float64\n",
            " 3   Goals                   202 non-null    float64\n",
            " 4   MinutestoGoalRatio      202 non-null    float64\n",
            " 5   ShotsPerGame            202 non-null    float64\n",
            " 6   AgentCharges            202 non-null    int64  \n",
            " 7   BMI                     202 non-null    float64\n",
            " 8   Cost                    202 non-null    float64\n",
            " 9   PreviousClubCost        202 non-null    float64\n",
            " 10  Height                  202 non-null    float64\n",
            " 11  Weight                  202 non-null    float64\n",
            " 12  Score                   202 non-null    float64\n",
            "dtypes: float64(10), int64(1), object(2)\n",
            "memory usage: 20.6+ KB\n"
          ]
        }
      ],
      "source": [
        "# dataframe information - prints information about the dataframe including index, dtype and columns, non-null values, and memory usage.\n",
        "# It can be used to get basic info, look for missing values, and get a sense of each variable's format.\n",
        "df.info()"
      ]
    },
    {
      "cell_type": "markdown",
      "metadata": {
        "id": "7pweqOoZKQrQ"
      },
      "source": [
        "There are 202 rows, 13 columns in the dataset. Observe that there are no null values. Out of 13 columns, 10 are float type and 1 is integer type. The remaining 2 have object dtype."
      ]
    },
    {
      "cell_type": "markdown",
      "metadata": {
        "id": "VzaTwqrzKQrS"
      },
      "source": [
        "**Descriptive statistics**    \n",
        "To generate descriptive statistics pandas.dataframe.describe() funtion is used.    \n",
        "*Descriptive statistics* include those that summarize the central tendency, dispersion, and shape of a dataset's distribution, excluding NaN values."
      ]
    },
    {
      "cell_type": "code",
      "execution_count": null,
      "metadata": {
        "id": "H3LKuJGYKQrS",
        "outputId": "38277619-f5ea-4536-f0b7-084efaca210f"
      },
      "outputs": [
        {
          "data": {
            "text/html": [
              "<div>\n",
              "<style scoped>\n",
              "    .dataframe tbody tr th:only-of-type {\n",
              "        vertical-align: middle;\n",
              "    }\n",
              "\n",
              "    .dataframe tbody tr th {\n",
              "        vertical-align: top;\n",
              "    }\n",
              "\n",
              "    .dataframe thead th {\n",
              "        text-align: right;\n",
              "    }\n",
              "</style>\n",
              "<table border=\"1\" class=\"dataframe\">\n",
              "  <thead>\n",
              "    <tr style=\"text-align: right;\">\n",
              "      <th></th>\n",
              "      <th>DistanceCovered(InKms)</th>\n",
              "      <th>Goals</th>\n",
              "      <th>MinutestoGoalRatio</th>\n",
              "      <th>ShotsPerGame</th>\n",
              "      <th>AgentCharges</th>\n",
              "      <th>BMI</th>\n",
              "      <th>Cost</th>\n",
              "      <th>PreviousClubCost</th>\n",
              "      <th>Height</th>\n",
              "      <th>Weight</th>\n",
              "      <th>Score</th>\n",
              "    </tr>\n",
              "  </thead>\n",
              "  <tbody>\n",
              "    <tr>\n",
              "      <th>count</th>\n",
              "      <td>202.000000</td>\n",
              "      <td>202.000000</td>\n",
              "      <td>202.000000</td>\n",
              "      <td>202.000000</td>\n",
              "      <td>202.000000</td>\n",
              "      <td>202.000000</td>\n",
              "      <td>202.000000</td>\n",
              "      <td>202.000000</td>\n",
              "      <td>202.000000</td>\n",
              "      <td>202.000000</td>\n",
              "      <td>202.000000</td>\n",
              "    </tr>\n",
              "    <tr>\n",
              "      <th>mean</th>\n",
              "      <td>4.718614</td>\n",
              "      <td>7.108663</td>\n",
              "      <td>43.091584</td>\n",
              "      <td>14.566337</td>\n",
              "      <td>76.876238</td>\n",
              "      <td>22.955891</td>\n",
              "      <td>69.021782</td>\n",
              "      <td>64.873713</td>\n",
              "      <td>180.103960</td>\n",
              "      <td>75.008168</td>\n",
              "      <td>13.507426</td>\n",
              "    </tr>\n",
              "    <tr>\n",
              "      <th>std</th>\n",
              "      <td>0.457976</td>\n",
              "      <td>1.800549</td>\n",
              "      <td>3.662989</td>\n",
              "      <td>1.362451</td>\n",
              "      <td>47.501239</td>\n",
              "      <td>2.863933</td>\n",
              "      <td>32.565333</td>\n",
              "      <td>13.070197</td>\n",
              "      <td>9.734494</td>\n",
              "      <td>13.925574</td>\n",
              "      <td>6.189826</td>\n",
              "    </tr>\n",
              "    <tr>\n",
              "      <th>min</th>\n",
              "      <td>3.800000</td>\n",
              "      <td>3.300000</td>\n",
              "      <td>35.900000</td>\n",
              "      <td>11.600000</td>\n",
              "      <td>8.000000</td>\n",
              "      <td>16.750000</td>\n",
              "      <td>28.000000</td>\n",
              "      <td>34.360000</td>\n",
              "      <td>148.900000</td>\n",
              "      <td>37.800000</td>\n",
              "      <td>5.630000</td>\n",
              "    </tr>\n",
              "    <tr>\n",
              "      <th>25%</th>\n",
              "      <td>4.372500</td>\n",
              "      <td>5.900000</td>\n",
              "      <td>40.600000</td>\n",
              "      <td>13.500000</td>\n",
              "      <td>41.250000</td>\n",
              "      <td>21.082500</td>\n",
              "      <td>43.850000</td>\n",
              "      <td>54.667500</td>\n",
              "      <td>174.000000</td>\n",
              "      <td>66.525000</td>\n",
              "      <td>8.545000</td>\n",
              "    </tr>\n",
              "    <tr>\n",
              "      <th>50%</th>\n",
              "      <td>4.755000</td>\n",
              "      <td>6.850000</td>\n",
              "      <td>43.500000</td>\n",
              "      <td>14.700000</td>\n",
              "      <td>65.500000</td>\n",
              "      <td>22.720000</td>\n",
              "      <td>58.600000</td>\n",
              "      <td>63.035000</td>\n",
              "      <td>179.700000</td>\n",
              "      <td>74.400000</td>\n",
              "      <td>11.650000</td>\n",
              "    </tr>\n",
              "    <tr>\n",
              "      <th>75%</th>\n",
              "      <td>5.030000</td>\n",
              "      <td>8.275000</td>\n",
              "      <td>45.575000</td>\n",
              "      <td>15.575000</td>\n",
              "      <td>97.000000</td>\n",
              "      <td>24.465000</td>\n",
              "      <td>90.350000</td>\n",
              "      <td>74.750000</td>\n",
              "      <td>186.175000</td>\n",
              "      <td>84.125000</td>\n",
              "      <td>18.080000</td>\n",
              "    </tr>\n",
              "    <tr>\n",
              "      <th>max</th>\n",
              "      <td>6.720000</td>\n",
              "      <td>14.300000</td>\n",
              "      <td>59.700000</td>\n",
              "      <td>19.200000</td>\n",
              "      <td>234.000000</td>\n",
              "      <td>34.420000</td>\n",
              "      <td>200.800000</td>\n",
              "      <td>106.000000</td>\n",
              "      <td>209.400000</td>\n",
              "      <td>123.200000</td>\n",
              "      <td>35.520000</td>\n",
              "    </tr>\n",
              "  </tbody>\n",
              "</table>\n",
              "</div>"
            ],
            "text/plain": [
              "       DistanceCovered(InKms)       Goals  MinutestoGoalRatio  ShotsPerGame   \n",
              "count              202.000000  202.000000          202.000000    202.000000  \\\n",
              "mean                 4.718614    7.108663           43.091584     14.566337   \n",
              "std                  0.457976    1.800549            3.662989      1.362451   \n",
              "min                  3.800000    3.300000           35.900000     11.600000   \n",
              "25%                  4.372500    5.900000           40.600000     13.500000   \n",
              "50%                  4.755000    6.850000           43.500000     14.700000   \n",
              "75%                  5.030000    8.275000           45.575000     15.575000   \n",
              "max                  6.720000   14.300000           59.700000     19.200000   \n",
              "\n",
              "       AgentCharges         BMI        Cost  PreviousClubCost      Height   \n",
              "count    202.000000  202.000000  202.000000        202.000000  202.000000  \\\n",
              "mean      76.876238   22.955891   69.021782         64.873713  180.103960   \n",
              "std       47.501239    2.863933   32.565333         13.070197    9.734494   \n",
              "min        8.000000   16.750000   28.000000         34.360000  148.900000   \n",
              "25%       41.250000   21.082500   43.850000         54.667500  174.000000   \n",
              "50%       65.500000   22.720000   58.600000         63.035000  179.700000   \n",
              "75%       97.000000   24.465000   90.350000         74.750000  186.175000   \n",
              "max      234.000000   34.420000  200.800000        106.000000  209.400000   \n",
              "\n",
              "           Weight       Score  \n",
              "count  202.000000  202.000000  \n",
              "mean    75.008168   13.507426  \n",
              "std     13.925574    6.189826  \n",
              "min     37.800000    5.630000  \n",
              "25%     66.525000    8.545000  \n",
              "50%     74.400000   11.650000  \n",
              "75%     84.125000   18.080000  \n",
              "max    123.200000   35.520000  "
            ]
          },
          "execution_count": 9,
          "metadata": {},
          "output_type": "execute_result"
        }
      ],
      "source": [
        "df.describe()"
      ]
    },
    {
      "cell_type": "markdown",
      "metadata": {
        "id": "w2ZlbGlIKQrT"
      },
      "source": [
        "<div style=\"background-color:#F5F5DC\">\n",
        "<br>\n",
        "\n",
        "\n",
        "**Correlation**    \n",
        "Correlation coefficient is used to measure the strength of relationship between two variables. It indicates that as the value of one variable changes the other variable changes in a specific direction with some magnitude. There are various ways to find correlation between two variables, one of which is Pearson correlation coefficient. Their strength of relationship is measured by the absolute value of coefficient, whereas the sign of the coefficient indicates the direction of the relationship.\n",
        "\n",
        "<br>\n",
        "</div>"
      ]
    },
    {
      "cell_type": "code",
      "execution_count": null,
      "metadata": {
        "id": "V3fddYtjKQrT",
        "outputId": "de8886d0-d095-4f2a-c380-185b287e7653"
      },
      "outputs": [
        {
          "data": {
            "text/html": [
              "<div>\n",
              "<style scoped>\n",
              "    .dataframe tbody tr th:only-of-type {\n",
              "        vertical-align: middle;\n",
              "    }\n",
              "\n",
              "    .dataframe tbody tr th {\n",
              "        vertical-align: top;\n",
              "    }\n",
              "\n",
              "    .dataframe thead th {\n",
              "        text-align: right;\n",
              "    }\n",
              "</style>\n",
              "<table border=\"1\" class=\"dataframe\">\n",
              "  <thead>\n",
              "    <tr style=\"text-align: right;\">\n",
              "      <th></th>\n",
              "      <th>DistanceCovered(InKms)</th>\n",
              "      <th>Goals</th>\n",
              "      <th>MinutestoGoalRatio</th>\n",
              "      <th>ShotsPerGame</th>\n",
              "      <th>AgentCharges</th>\n",
              "      <th>BMI</th>\n",
              "      <th>Cost</th>\n",
              "      <th>PreviousClubCost</th>\n",
              "      <th>Height</th>\n",
              "      <th>Weight</th>\n",
              "      <th>Score</th>\n",
              "    </tr>\n",
              "  </thead>\n",
              "  <tbody>\n",
              "    <tr>\n",
              "      <th>DistanceCovered(InKms)</th>\n",
              "      <td>1.000000</td>\n",
              "      <td>0.147098</td>\n",
              "      <td>0.924964</td>\n",
              "      <td>0.888800</td>\n",
              "      <td>0.250865</td>\n",
              "      <td>0.299471</td>\n",
              "      <td>-0.403004</td>\n",
              "      <td>0.550975</td>\n",
              "      <td>0.358854</td>\n",
              "      <td>0.403743</td>\n",
              "      <td>-0.493512</td>\n",
              "    </tr>\n",
              "    <tr>\n",
              "      <th>Goals</th>\n",
              "      <td>0.147098</td>\n",
              "      <td>1.000000</td>\n",
              "      <td>0.153333</td>\n",
              "      <td>0.134721</td>\n",
              "      <td>0.131973</td>\n",
              "      <td>0.177032</td>\n",
              "      <td>0.137131</td>\n",
              "      <td>0.102734</td>\n",
              "      <td>0.076958</td>\n",
              "      <td>0.155844</td>\n",
              "      <td>0.108114</td>\n",
              "    </tr>\n",
              "    <tr>\n",
              "      <th>MinutestoGoalRatio</th>\n",
              "      <td>0.924964</td>\n",
              "      <td>0.153333</td>\n",
              "      <td>1.000000</td>\n",
              "      <td>0.950757</td>\n",
              "      <td>0.258240</td>\n",
              "      <td>0.320527</td>\n",
              "      <td>-0.449135</td>\n",
              "      <td>0.583375</td>\n",
              "      <td>0.371192</td>\n",
              "      <td>0.423699</td>\n",
              "      <td>-0.532449</td>\n",
              "    </tr>\n",
              "    <tr>\n",
              "      <th>ShotsPerGame</th>\n",
              "      <td>0.888800</td>\n",
              "      <td>0.134721</td>\n",
              "      <td>0.950757</td>\n",
              "      <td>1.000000</td>\n",
              "      <td>0.308391</td>\n",
              "      <td>0.382524</td>\n",
              "      <td>-0.435429</td>\n",
              "      <td>0.610986</td>\n",
              "      <td>0.352322</td>\n",
              "      <td>0.455255</td>\n",
              "      <td>-0.531522</td>\n",
              "    </tr>\n",
              "    <tr>\n",
              "      <th>AgentCharges</th>\n",
              "      <td>0.250865</td>\n",
              "      <td>0.131973</td>\n",
              "      <td>0.258240</td>\n",
              "      <td>0.308391</td>\n",
              "      <td>1.000000</td>\n",
              "      <td>0.302556</td>\n",
              "      <td>-0.108243</td>\n",
              "      <td>0.317581</td>\n",
              "      <td>0.123255</td>\n",
              "      <td>0.273686</td>\n",
              "      <td>-0.183386</td>\n",
              "    </tr>\n",
              "    <tr>\n",
              "      <th>BMI</th>\n",
              "      <td>0.299471</td>\n",
              "      <td>0.177032</td>\n",
              "      <td>0.320527</td>\n",
              "      <td>0.382524</td>\n",
              "      <td>0.302556</td>\n",
              "      <td>1.000000</td>\n",
              "      <td>0.321116</td>\n",
              "      <td>0.713858</td>\n",
              "      <td>0.337097</td>\n",
              "      <td>0.845955</td>\n",
              "      <td>0.187558</td>\n",
              "    </tr>\n",
              "    <tr>\n",
              "      <th>Cost</th>\n",
              "      <td>-0.403004</td>\n",
              "      <td>0.137131</td>\n",
              "      <td>-0.449135</td>\n",
              "      <td>-0.435429</td>\n",
              "      <td>-0.108243</td>\n",
              "      <td>0.321116</td>\n",
              "      <td>1.000000</td>\n",
              "      <td>-0.207749</td>\n",
              "      <td>-0.071253</td>\n",
              "      <td>0.154227</td>\n",
              "      <td>0.963017</td>\n",
              "    </tr>\n",
              "    <tr>\n",
              "      <th>PreviousClubCost</th>\n",
              "      <td>0.550975</td>\n",
              "      <td>0.102734</td>\n",
              "      <td>0.583375</td>\n",
              "      <td>0.610986</td>\n",
              "      <td>0.317581</td>\n",
              "      <td>0.713858</td>\n",
              "      <td>-0.207749</td>\n",
              "      <td>1.000000</td>\n",
              "      <td>0.802119</td>\n",
              "      <td>0.930904</td>\n",
              "      <td>-0.361850</td>\n",
              "    </tr>\n",
              "    <tr>\n",
              "      <th>Height</th>\n",
              "      <td>0.358854</td>\n",
              "      <td>0.076958</td>\n",
              "      <td>0.371192</td>\n",
              "      <td>0.352322</td>\n",
              "      <td>0.123255</td>\n",
              "      <td>0.337097</td>\n",
              "      <td>-0.071253</td>\n",
              "      <td>0.802119</td>\n",
              "      <td>1.000000</td>\n",
              "      <td>0.780906</td>\n",
              "      <td>-0.188022</td>\n",
              "    </tr>\n",
              "    <tr>\n",
              "      <th>Weight</th>\n",
              "      <td>0.403743</td>\n",
              "      <td>0.155844</td>\n",
              "      <td>0.423699</td>\n",
              "      <td>0.455255</td>\n",
              "      <td>0.273686</td>\n",
              "      <td>0.845955</td>\n",
              "      <td>0.154227</td>\n",
              "      <td>0.930904</td>\n",
              "      <td>0.780906</td>\n",
              "      <td>1.000000</td>\n",
              "      <td>-0.000162</td>\n",
              "    </tr>\n",
              "    <tr>\n",
              "      <th>Score</th>\n",
              "      <td>-0.493512</td>\n",
              "      <td>0.108114</td>\n",
              "      <td>-0.532449</td>\n",
              "      <td>-0.531522</td>\n",
              "      <td>-0.183386</td>\n",
              "      <td>0.187558</td>\n",
              "      <td>0.963017</td>\n",
              "      <td>-0.361850</td>\n",
              "      <td>-0.188022</td>\n",
              "      <td>-0.000162</td>\n",
              "      <td>1.000000</td>\n",
              "    </tr>\n",
              "  </tbody>\n",
              "</table>\n",
              "</div>"
            ],
            "text/plain": [
              "                        DistanceCovered(InKms)     Goals  MinutestoGoalRatio   \n",
              "DistanceCovered(InKms)                1.000000  0.147098            0.924964  \\\n",
              "Goals                                 0.147098  1.000000            0.153333   \n",
              "MinutestoGoalRatio                    0.924964  0.153333            1.000000   \n",
              "ShotsPerGame                          0.888800  0.134721            0.950757   \n",
              "AgentCharges                          0.250865  0.131973            0.258240   \n",
              "BMI                                   0.299471  0.177032            0.320527   \n",
              "Cost                                 -0.403004  0.137131           -0.449135   \n",
              "PreviousClubCost                      0.550975  0.102734            0.583375   \n",
              "Height                                0.358854  0.076958            0.371192   \n",
              "Weight                                0.403743  0.155844            0.423699   \n",
              "Score                                -0.493512  0.108114           -0.532449   \n",
              "\n",
              "                        ShotsPerGame  AgentCharges       BMI      Cost   \n",
              "DistanceCovered(InKms)      0.888800      0.250865  0.299471 -0.403004  \\\n",
              "Goals                       0.134721      0.131973  0.177032  0.137131   \n",
              "MinutestoGoalRatio          0.950757      0.258240  0.320527 -0.449135   \n",
              "ShotsPerGame                1.000000      0.308391  0.382524 -0.435429   \n",
              "AgentCharges                0.308391      1.000000  0.302556 -0.108243   \n",
              "BMI                         0.382524      0.302556  1.000000  0.321116   \n",
              "Cost                       -0.435429     -0.108243  0.321116  1.000000   \n",
              "PreviousClubCost            0.610986      0.317581  0.713858 -0.207749   \n",
              "Height                      0.352322      0.123255  0.337097 -0.071253   \n",
              "Weight                      0.455255      0.273686  0.845955  0.154227   \n",
              "Score                      -0.531522     -0.183386  0.187558  0.963017   \n",
              "\n",
              "                        PreviousClubCost    Height    Weight     Score  \n",
              "DistanceCovered(InKms)          0.550975  0.358854  0.403743 -0.493512  \n",
              "Goals                           0.102734  0.076958  0.155844  0.108114  \n",
              "MinutestoGoalRatio              0.583375  0.371192  0.423699 -0.532449  \n",
              "ShotsPerGame                    0.610986  0.352322  0.455255 -0.531522  \n",
              "AgentCharges                    0.317581  0.123255  0.273686 -0.183386  \n",
              "BMI                             0.713858  0.337097  0.845955  0.187558  \n",
              "Cost                           -0.207749 -0.071253  0.154227  0.963017  \n",
              "PreviousClubCost                1.000000  0.802119  0.930904 -0.361850  \n",
              "Height                          0.802119  1.000000  0.780906 -0.188022  \n",
              "Weight                          0.930904  0.780906  1.000000 -0.000162  \n",
              "Score                          -0.361850 -0.188022 -0.000162  1.000000  "
            ]
          },
          "execution_count": 10,
          "metadata": {},
          "output_type": "execute_result"
        }
      ],
      "source": [
        "df.iloc[:, 2:].corr()"
      ]
    },
    {
      "cell_type": "markdown",
      "metadata": {
        "id": "_M7ZQCTPKQrT"
      },
      "source": [
        "The correlation between DistanceCovered(InKms) and the target variable score $-0.49$ indicates negative correlation.\n",
        "The variable cost is related to the target variable with correlation coefficient $0.96$ which indicates strong positive relationship."
      ]
    },
    {
      "cell_type": "markdown",
      "metadata": {
        "id": "eaMuAoY-KQrT"
      },
      "source": [
        "<div style=\"background-color:#F5F5DC\">\n",
        "<br>\n",
        "\n",
        "\n",
        "Pearson correlation coefficient can only measure linear relationship between data.\n",
        "The following data shows non linear relationship which can not be found by using pearson correlation coefficient. In such cases Spearman's correlation coefficient is used. It can be used to find nonlinear, monotonic relationships and for ordinal data.\n",
        "\n",
        "\n",
        "<br>\n",
        "</div>"
      ]
    },
    {
      "cell_type": "markdown",
      "metadata": {
        "id": "W5sCxKQjKQrU"
      },
      "source": [
        "<div style=\"background-color:#F5F5DC\">\n",
        "<br>\n",
        "\n",
        "\n",
        "**Correlation does not imply Causation!!**\n",
        "\n",
        "Some studies show that people in the UK spend more money on shopping when it's cold which shows correlation between two variables. Does this imply cold weather causes people to spend more money? The answer is NO. One of the possible explanations is that cold weather coincides with Christmas and new year sales, hence people shop more.\n",
        "\n",
        "Correlation between two variables indicates association between two variables but it does not mean change in one variable is caused by another.\n",
        "\n",
        "\n",
        "<br>\n",
        "</div>"
      ]
    },
    {
      "cell_type": "markdown",
      "metadata": {
        "id": "tvMHs30wKQrU"
      },
      "source": [
        "**Relationship between Cost and Score**\n",
        "\n",
        "Score and Cost have a 96% correlation, making it a significant variable. Cost can be selected as the predictor variable for simple linear regression since the scatter plot between them will demonstrate a linear relationship.\n",
        "\n",
        "\n",
        "To see this relationship visually, let's plot the scatter plot for Cost and Score."
      ]
    },
    {
      "cell_type": "code",
      "execution_count": null,
      "metadata": {
        "id": "SkSN9Hu2KQrU",
        "outputId": "44fb6ed2-3116-4c7b-ddac-791ec6842401"
      },
      "outputs": [
        {
          "data": {
            "text/plain": [
              "Text(0.5, 1.0, 'Scatter plot between Cost and Score')"
            ]
          },
          "execution_count": 11,
          "metadata": {},
          "output_type": "execute_result"
        },
        {
          "data": {
            "image/png": "[encoded data removed]",
            "text/plain": [
              "<Figure size 640x480 with 1 Axes>"
            ]
          },
          "metadata": {},
          "output_type": "display_data"
        }
      ],
      "source": [
        "figure(figsize=(8, 6), dpi=80)\n",
        "plt.scatter(df['Cost'], df['Score'])\n",
        "\n",
        "# label\n",
        "plt.xlabel(\"Cost\")\n",
        "plt.ylabel(\"Score\")\n",
        "plt.title(\"Scatter plot between Cost and Score\")"
      ]
    },
    {
      "cell_type": "markdown",
      "metadata": {
        "id": "1ScwKiZgKQrV"
      },
      "source": [
        "<div style=\"background-color:#F5F5DC\">\n",
        "<br>\n",
        "\n",
        "The correlation between Cost and Score is easily visible here.\n",
        "\n",
        "The Pearson correlation and scatter plot demonstrate that as the cost increases, so does the score. But what can we do with this knowledge?\n",
        "\n",
        "How can we know how much money should be spent to achieve a specific score?\n",
        "This is where Linear Regression comes in. It assists us in modeling the linear relationship between two or more variables so that we may foresee the results using the model.\n",
        "\n",
        "Let's figure out how.\n",
        "\n",
        "\n",
        "<br>\n",
        "</div>"
      ]
    },
    {
      "cell_type": "markdown",
      "metadata": {
        "id": "fuyfuv-bKQrV"
      },
      "source": [
        "<div style=\"background-color:#F5F5DC\">\n",
        "<br>\n",
        "\n",
        "\n",
        "**Train - Test Split**     \n",
        "The data points are divided into two datasets, train and test, in a train test split method. The train data is used to train the model, and the model is then used to predict on the test data to see how the model performs on unseen data and whether it is overfitting or underfitting.\n",
        "\n",
        "\n",
        "<br>\n",
        "</div>"
      ]
    },
    {
      "cell_type": "code",
      "execution_count": null,
      "metadata": {
        "id": "zAbseFzlKQrV"
      },
      "outputs": [],
      "source": [
        "# Assign X, y predictor and response variables\n",
        "X = df['Cost']\n",
        "y = df['Score']\n",
        "\n",
        "# Splitting with 75% training and 25% testing dataset\n",
        "X_train, X_test, y_train, y_test = train_test_split(\n",
        "    X, y,\n",
        "    train_size=0.75,\n",
        "    test_size=0.25,\n",
        "    random_state=100)"
      ]
    },
    {
      "cell_type": "markdown",
      "metadata": {
        "id": "wkRuQBeDKQrV"
      },
      "source": [
        "<div style=\"background-color:#F5F5DC\">\n",
        "<br>\n",
        "\n",
        "\n",
        "**Linear Regression: Scikit-learn vs Statsmodels**    \n",
        "Scikit-learn's LinearRegression and Statsmodels' OLS (Ordinary Least Squares) are two popular libraries for linear regression in Python. While both can be used to perform linear regression, there are some differences between them:\n",
        "\n",
        "* Model Fitting: Scikit-learn provides a simple API for model fitting. The fit method of the LinearRegression class takes in the input features and target variable, and returns the fitted model. On the other hand, Statsmodels provides a more detailed and statistically rigorous approach to model fitting with its OLS class, which allows users to specify various model assumptions, summary statistics and hypothesis testing.\n",
        "\n",
        "* Model Summary: Scikit-learn provides only the coefficients and their standard errors, while Statsmodels provides a more detailed summary of the regression results, including R-squared, F-statistic, p-values, and confidence intervals for the coefficients. This can be useful for hypothesis testing and model selection.\n",
        "\n",
        "* Model Evaluation: Scikit-learn provides several evaluation metrics for regression models, such as mean squared error, mean absolute error, and R-squared. Statsmodels provides similar metrics, but also offers the ability to run hypothesis tests on the coefficients, such as t-tests and F-tests, which are useful for model selection and inference.\n",
        "\n",
        "* Speed: Scikit-learn's LinearRegression is optimized for speed, making it a good choice for large datasets. Statsmodels' OLS is less optimized for speed, and can be slower for large datasets.\n",
        "\n",
        "In conclusion, when it comes to choosing between the two, it depends on the specific requirements of the project. If a simple, fast, and flexible linear regression model is needed, scikit-learn's LinearRegression is a good choice. If a more detailed statistical analysis of the regression results is needed, with the ability to perform hypothesis tests and perform detailed evaluation, then Statsmodels' OLS may be a better choice.\n",
        "\n",
        "\n",
        "<br>\n",
        "</div>"
      ]
    },
    {
      "cell_type": "code",
      "execution_count": null,
      "metadata": {
        "id": "IHqgUT1qKQrV",
        "outputId": "b645b23f-de68-4b1c-f5dd-b86156e51c5b"
      },
      "outputs": [
        {
          "data": {
            "text/plain": [
              "Cost    0.192891\n",
              "dtype: float64"
            ]
          },
          "execution_count": 19,
          "metadata": {},
          "output_type": "execute_result"
        }
      ],
      "source": [
        "# statsmodels approach to regression\n",
        "# fit the model\n",
        "lr = sm.OLS(y_train, X_train).fit()\n",
        "\n",
        "# printing the parameters\n",
        "lr.params"
      ]
    },
    {
      "cell_type": "code",
      "execution_count": null,
      "metadata": {
        "id": "m9FpwWfYKQrW",
        "outputId": "381c8839-83d2-4087-c033-ec784401399f"
      },
      "outputs": [
        {
          "data": {
            "text/html": [
              "<table class=\"simpletable\">\n",
              "<caption>OLS Regression Results</caption>\n",
              "<tr>\n",
              "  <th>Dep. Variable:</th>          <td>Score</td>      <th>  R-squared (uncentered):</th>      <td>   0.987</td> \n",
              "</tr>\n",
              "<tr>\n",
              "  <th>Model:</th>                   <td>OLS</td>       <th>  Adj. R-squared (uncentered):</th> <td>   0.987</td> \n",
              "</tr>\n",
              "<tr>\n",
              "  <th>Method:</th>             <td>Least Squares</td>  <th>  F-statistic:       </th>          <td>1.167e+04</td>\n",
              "</tr>\n",
              "<tr>\n",
              "  <th>Date:</th>             <td>Tue, 23 May 2023</td> <th>  Prob (F-statistic):</th>          <td>3.84e-144</td>\n",
              "</tr>\n",
              "<tr>\n",
              "  <th>Time:</th>                 <td>12:17:17</td>     <th>  Log-Likelihood:    </th>          <td> -297.42</td> \n",
              "</tr>\n",
              "<tr>\n",
              "  <th>No. Observations:</th>      <td>   151</td>      <th>  AIC:               </th>          <td>   596.8</td> \n",
              "</tr>\n",
              "<tr>\n",
              "  <th>Df Residuals:</th>          <td>   150</td>      <th>  BIC:               </th>          <td>   599.9</td> \n",
              "</tr>\n",
              "<tr>\n",
              "  <th>Df Model:</th>              <td>     1</td>      <th>                     </th>              <td> </td>    \n",
              "</tr>\n",
              "<tr>\n",
              "  <th>Covariance Type:</th>      <td>nonrobust</td>    <th>                     </th>              <td> </td>    \n",
              "</tr>\n",
              "</table>\n",
              "<table class=\"simpletable\">\n",
              "<tr>\n",
              "    <td></td>      <th>coef</th>     <th>std err</th>      <th>t</th>      <th>P>|t|</th>  <th>[0.025</th>    <th>0.975]</th>  \n",
              "</tr>\n",
              "<tr>\n",
              "  <th>Cost</th> <td>    0.1929</td> <td>    0.002</td> <td>  108.014</td> <td> 0.000</td> <td>    0.189</td> <td>    0.196</td>\n",
              "</tr>\n",
              "</table>\n",
              "<table class=\"simpletable\">\n",
              "<tr>\n",
              "  <th>Omnibus:</th>       <td> 0.244</td> <th>  Durbin-Watson:     </th> <td>   1.812</td>\n",
              "</tr>\n",
              "<tr>\n",
              "  <th>Prob(Omnibus):</th> <td> 0.885</td> <th>  Jarque-Bera (JB):  </th> <td>   0.054</td>\n",
              "</tr>\n",
              "<tr>\n",
              "  <th>Skew:</th>          <td> 0.021</td> <th>  Prob(JB):          </th> <td>   0.974</td>\n",
              "</tr>\n",
              "<tr>\n",
              "  <th>Kurtosis:</th>      <td> 3.083</td> <th>  Cond. No.          </th> <td>    1.00</td>\n",
              "</tr>\n",
              "</table><br/><br/>Notes:<br/>[1] R² is computed without centering (uncentered) since the model does not contain a constant.<br/>[2] Standard Errors assume that the covariance matrix of the errors is correctly specified."
            ],
            "text/latex": [
              "\\begin{center}\n",
              "\\begin{tabular}{lclc}\n",
              "\\toprule\n",
              "\\textbf{Dep. Variable:}    &      Score       & \\textbf{  R-squared (uncentered):}      &     0.987   \\\\\n",
              "\\textbf{Model:}            &       OLS        & \\textbf{  Adj. R-squared (uncentered):} &     0.987   \\\\\n",
              "\\textbf{Method:}           &  Least Squares   & \\textbf{  F-statistic:       }          & 1.167e+04   \\\\\n",
              "\\textbf{Date:}             & Tue, 23 May 2023 & \\textbf{  Prob (F-statistic):}          & 3.84e-144   \\\\\n",
              "\\textbf{Time:}             &     12:17:17     & \\textbf{  Log-Likelihood:    }          &   -297.42   \\\\\n",
              "\\textbf{No. Observations:} &         151      & \\textbf{  AIC:               }          &     596.8   \\\\\n",
              "\\textbf{Df Residuals:}     &         150      & \\textbf{  BIC:               }          &     599.9   \\\\\n",
              "\\textbf{Df Model:}         &           1      & \\textbf{                     }          &             \\\\\n",
              "\\textbf{Covariance Type:}  &    nonrobust     & \\textbf{                     }          &             \\\\\n",
              "\\bottomrule\n",
              "\\end{tabular}\n",
              "\\begin{tabular}{lcccccc}\n",
              "              & \\textbf{coef} & \\textbf{std err} & \\textbf{t} & \\textbf{P$> |$t$|$} & \\textbf{[0.025} & \\textbf{0.975]}  \\\\\n",
              "\\midrule\n",
              "\\textbf{Cost} &       0.1929  &        0.002     &   108.014  &         0.000        &        0.189    &        0.196     \\\\\n",
              "\\bottomrule\n",
              "\\end{tabular}\n",
              "\\begin{tabular}{lclc}\n",
              "\\textbf{Omnibus:}       &  0.244 & \\textbf{  Durbin-Watson:     } &    1.812  \\\\\n",
              "\\textbf{Prob(Omnibus):} &  0.885 & \\textbf{  Jarque-Bera (JB):  } &    0.054  \\\\\n",
              "\\textbf{Skew:}          &  0.021 & \\textbf{  Prob(JB):          } &    0.974  \\\\\n",
              "\\textbf{Kurtosis:}      &  3.083 & \\textbf{  Cond. No.          } &     1.00  \\\\\n",
              "\\bottomrule\n",
              "\\end{tabular}\n",
              "%\\caption{OLS Regression Results}\n",
              "\\end{center}\n",
              "\n",
              "Notes: \\newline\n",
              " [1] R² is computed without centering (uncentered) since the model does not contain a constant. \\newline\n",
              " [2] Standard Errors assume that the covariance matrix of the errors is correctly specified."
            ],
            "text/plain": [
              "<class 'statsmodels.iolib.summary.Summary'>\n",
              "\"\"\"\n",
              "                                 OLS Regression Results                                \n",
              "=======================================================================================\n",
              "Dep. Variable:                  Score   R-squared (uncentered):                   0.987\n",
              "Model:                            OLS   Adj. R-squared (uncentered):              0.987\n",
              "Method:                 Least Squares   F-statistic:                          1.167e+04\n",
              "Date:                Tue, 23 May 2023   Prob (F-statistic):                   3.84e-144\n",
              "Time:                        12:17:17   Log-Likelihood:                         -297.42\n",
              "No. Observations:                 151   AIC:                                      596.8\n",
              "Df Residuals:                     150   BIC:                                      599.9\n",
              "Df Model:                           1                                                  \n",
              "Covariance Type:            nonrobust                                                  \n",
              "==============================================================================\n",
              "                 coef    std err          t      P>|t|      [0.025      0.975]\n",
              "------------------------------------------------------------------------------\n",
              "Cost           0.1929      0.002    108.014      0.000       0.189       0.196\n",
              "==============================================================================\n",
              "Omnibus:                        0.244   Durbin-Watson:                   1.812\n",
              "Prob(Omnibus):                  0.885   Jarque-Bera (JB):                0.054\n",
              "Skew:                           0.021   Prob(JB):                        0.974\n",
              "Kurtosis:                       3.083   Cond. No.                         1.00\n",
              "==============================================================================\n",
              "\n",
              "Notes:\n",
              "[1] R² is computed without centering (uncentered) since the model does not contain a constant.\n",
              "[2] Standard Errors assume that the covariance matrix of the errors is correctly specified.\n",
              "\"\"\""
            ]
          },
          "execution_count": 21,
          "metadata": {},
          "output_type": "execute_result"
        }
      ],
      "source": [
        "lr.summary()"
      ]
    },
    {
      "cell_type": "code",
      "execution_count": null,
      "metadata": {
        "id": "THnxAkywKQrW",
        "outputId": "4a05e3f3-9bc2-4dcd-e8e2-b5c0b0a49b7b"
      },
      "outputs": [
        {
          "name": "stdout",
          "output_type": "stream",
          "text": [
            "const    0.947185\n",
            "Cost     0.182083\n",
            "dtype: float64\n",
            "                            OLS Regression Results                            \n",
            "==============================================================================\n",
            "Dep. Variable:                  Score   R-squared:                       0.930\n",
            "Model:                            OLS   Adj. R-squared:                  0.929\n",
            "Method:                 Least Squares   F-statistic:                     1976.\n",
            "Date:                Tue, 23 May 2023   Prob (F-statistic):           6.91e-88\n",
            "Time:                        12:19:32   Log-Likelihood:                -293.23\n",
            "No. Observations:                 151   AIC:                             590.5\n",
            "Df Residuals:                     149   BIC:                             596.5\n",
            "Df Model:                           1                                         \n",
            "Covariance Type:            nonrobust                                         \n",
            "==============================================================================\n",
            "                 coef    std err          t      P>|t|      [0.025      0.975]\n",
            "------------------------------------------------------------------------------\n",
            "const          0.9472      0.325      2.916      0.004       0.305       1.589\n",
            "Cost           0.1821      0.004     44.456      0.000       0.174       0.190\n",
            "==============================================================================\n",
            "Omnibus:                        3.849   Durbin-Watson:                   1.821\n",
            "Prob(Omnibus):                  0.146   Jarque-Bera (JB):                3.867\n",
            "Skew:                           0.359   Prob(JB):                        0.145\n",
            "Kurtosis:                       2.685   Cond. No.                         186.\n",
            "==============================================================================\n",
            "\n",
            "Notes:\n",
            "[1] Standard Errors assume that the covariance matrix of the errors is correctly specified.\n"
          ]
        }
      ],
      "source": [
        "# force intercept term - as the statsmodels by default makes beta_0 = 0 intercept = 0\n",
        "X_train_with_intercept = sm.add_constant(X_train)\n",
        "lr = sm.OLS(y_train, X_train_with_intercept).fit()\n",
        "print(lr.params)\n",
        "print(lr.summary())"
      ]
    },
    {
      "cell_type": "markdown",
      "metadata": {
        "id": "0Wbnef-kKQrW"
      },
      "source": [
        "**Model Summary**     \n",
        "Now that we have successfully modeled let's evaluate the results and summary of the model:     \n",
        "* $R^2$: The $R^2$ or the coefficient of determination is the proportion of the variance in the dependent variable that is explained from the independent variable(s). We got an $R^2$ of **0.93** which is pretty good.     \n",
        "* Adjusted $R^2$: For linear models, adjusted $R^2$ is a corrected goodness-of-fit statistic. It determines the proportion of variance in the target field explained by the input(s). $R^2$ tends to overestimate the goodness-of-fit of the linear regression. It always grows as the number of independent variables in the model grows. It happens because we tend to deduct a large amount (due to multiple variables) to calculate error as the number of independent variable increases."
      ]
    },
    {
      "cell_type": "markdown",
      "metadata": {
        "id": "WlXsuZycKQrW"
      },
      "source": [
        "What would happen if we do not include constant while builing the linear regression model?"
      ]
    },
    {
      "cell_type": "code",
      "execution_count": null,
      "metadata": {
        "id": "YdjrDV2hKQrW",
        "outputId": "71b6a336-bc64-4b6d-c280-fc4a6d81f88f"
      },
      "outputs": [
        {
          "name": "stdout",
          "output_type": "stream",
          "text": [
            "const    0.947185\n",
            "Cost     0.182083\n",
            "dtype: float64\n"
          ]
        },
        {
          "data": {
            "image/png": "[encoded data removed]",
            "text/plain": [
              "<Figure size 640x480 with 1 Axes>"
            ]
          },
          "metadata": {},
          "output_type": "display_data"
        }
      ],
      "source": [
        "# extract the beta_0, beta_1 from the fitted regression line\n",
        "print(lr.params)\n",
        "b0 = lr.params[0]\n",
        "b1 = lr.params[1]\n",
        "\n",
        "# plot the fitted line on training data\n",
        "figure(figsize=(8,6), dpi=80)\n",
        "plt.scatter(X_train, y_train)\n",
        "plt.plot(X_train, b0+b1*X_train, 'r')\n",
        "\n",
        "plt.xlabel(\"Cost\")\n",
        "plt.ylabel(\"Score\")\n",
        "plt.title(\"Regression line through the Training data\")\n",
        "\n",
        "plt.show()"
      ]
    },
    {
      "cell_type": "markdown",
      "metadata": {
        "id": "EW9vCfq2KQrX"
      },
      "source": [
        "In this plot, we are extracting the values of the intercept $\\beta_0$ and coefficient/slope $\\beta_1$ and plotting the regression line over the scatter plot of the Cost and Score of training data.\n",
        "\n",
        "The regression line has a good fitting, it probably deviates a little after a cost of 125 or so, let's see if we can improve it in the later sections when we diagnose and remedy but first let's see how our model performs on the test data."
      ]
    },
    {
      "cell_type": "markdown",
      "metadata": {
        "id": "h24nS6-sKQrX"
      },
      "source": [
        "**Prediction on Test Data**"
      ]
    },
    {
      "cell_type": "code",
      "execution_count": null,
      "metadata": {
        "id": "hOqkyQbqKQrX",
        "outputId": "dd8efc39-f73a-47a7-ba17-18e1b3ed9856"
      },
      "outputs": [
        {
          "data": {
            "image/png": "[encoded data removed]",
            "text/plain": [
              "<Figure size 640x480 with 1 Axes>"
            ]
          },
          "metadata": {},
          "output_type": "display_data"
        }
      ],
      "source": [
        "# plot the fitted line on test data\n",
        "X_test_with_intercept = sm.add_constant(X_test)\n",
        "y_test_fitted = lr.predict(X_test_with_intercept)\n",
        "\n",
        "# scatter plot on test data\n",
        "figure(figsize=(8,6), dpi=80)\n",
        "plt.scatter(X_test, y_test)\n",
        "plt.plot(X_test, y_test_fitted, 'r')\n",
        "\n",
        "plt.xlabel(\"Cost\")\n",
        "plt.ylabel(\"Score\")\n",
        "plt.title(\"Regression line through the testing data\")\n",
        "\n",
        "plt.show()"
      ]
    },
    {
      "cell_type": "markdown",
      "metadata": {
        "id": "pQV2rLqaKQrX"
      },
      "source": [
        "Here we can see that the model has built a good regression fit as it is passing through the middle of all the points to get the minimum error.\n",
        "\n",
        "Observe that all the data points in the test data lie in the range of the training data. This is called interpolation. What if we analyze a data point with a cost say 560? This is extrapolation and the model probably won't be robust to it."
      ]
    },
    {
      "cell_type": "markdown",
      "metadata": {
        "id": "S4mmLr3-KQrX"
      },
      "source": [
        "<div style=\"background-color:#F5F5DC\">\n",
        "<br>\n",
        "\n",
        "\n",
        "**Diagnostics**: To evaluate whether the linear regression model is a good fit for the pattern in the data.     \n",
        "\n",
        "**Checklist**:    \n",
        "- Non-linearity\n",
        "- Non-constant variance\n",
        "- Deviations from normality\n",
        "- Errors that are not independent and identically distributed\n",
        "- Outliers\n",
        "- Missing Predictors\n",
        "\n",
        "<br>\n",
        "</div>"
      ]
    },
    {
      "cell_type": "code",
      "execution_count": null,
      "metadata": {
        "id": "UtVQ-vXtKQrX",
        "outputId": "c95ab30a-f592-4814-b25f-602cc69c9559"
      },
      "outputs": [
        {
          "data": {
            "image/png": "[encoded data removed]",
            "text/plain": [
              "<Figure size 640x480 with 1 Axes>"
            ]
          },
          "metadata": {},
          "output_type": "display_data"
        },
        {
          "data": {
            "image/png": "[encoded data removed]",
            "text/plain": [
              "<Figure size 640x480 with 1 Axes>"
            ]
          },
          "metadata": {},
          "output_type": "display_data"
        },
        {
          "data": {
            "text/plain": [
              "((array([-2.60603471, -2.28639722, -2.10324767, -1.97158309, -1.867224  ,\n",
              "         -1.7799545 , -1.70445293, -1.63757876, -1.57731662, -1.52229259,\n",
              "         -1.47152616, -1.42429196, -1.3800376 , -1.33833223, -1.29883298,\n",
              "         -1.26126233, -1.22539231, -1.19103324, -1.1580255 , -1.12623343,\n",
              "         -1.09554071, -1.06584677, -1.03706405, -1.0091158 , -0.98193434,\n",
              "         -0.95545967, -0.92963831, -0.90442237, -0.87976879, -0.85563868,\n",
              "         -0.83199678, -0.80881102, -0.78605212, -0.76369328, -0.74170987,\n",
              "         -0.7200792 , -0.69878032, -0.67779383, -0.65710172, -0.6366872 ,\n",
              "         -0.61653466, -0.59662946, -0.57695791, -0.55750713, -0.53826504,\n",
              "         -0.51922023, -0.50036191, -0.48167989, -0.4631645 , -0.44480656,\n",
              "         -0.42659733, -0.40852846, -0.39059201, -0.37278035, -0.35508619,\n",
              "         -0.33750252, -0.32002258, -0.3026399 , -0.28534819, -0.26814138,\n",
              "         -0.25101361, -0.23395916, -0.2169725 , -0.20004822, -0.18318105,\n",
              "         -0.16636584, -0.14959754, -0.1328712 , -0.11618195, -0.09952501,\n",
              "         -0.08289563, -0.06628915, -0.04970093, -0.03312637, -0.01656091,\n",
              "          0.        ,  0.01656091,  0.03312637,  0.04970093,  0.06628915,\n",
              "          0.08289563,  0.09952501,  0.11618195,  0.1328712 ,  0.14959754,\n",
              "          0.16636584,  0.18318105,  0.20004822,  0.2169725 ,  0.23395916,\n",
              "          0.25101361,  0.26814138,  0.28534819,  0.3026399 ,  0.32002258,\n",
              "          0.33750252,  0.35508619,  0.37278035,  0.39059201,  0.40852846,\n",
              "          0.42659733,  0.44480656,  0.4631645 ,  0.48167989,  0.50036191,\n",
              "          0.51922023,  0.53826504,  0.55750713,  0.57695791,  0.59662946,\n",
              "          0.61653466,  0.6366872 ,  0.65710172,  0.67779383,  0.69878032,\n",
              "          0.7200792 ,  0.74170987,  0.76369328,  0.78605212,  0.80881102,\n",
              "          0.83199678,  0.85563868,  0.87976879,  0.90442237,  0.92963831,\n",
              "          0.95545967,  0.98193434,  1.0091158 ,  1.03706405,  1.06584677,\n",
              "          1.09554071,  1.12623343,  1.1580255 ,  1.19103324,  1.22539231,\n",
              "          1.26126233,  1.29883298,  1.33833223,  1.3800376 ,  1.42429196,\n",
              "          1.47152616,  1.52229259,  1.57731662,  1.63757876,  1.70445293,\n",
              "          1.7799545 ,  1.867224  ,  1.97158309,  2.10324767,  2.28639722,\n",
              "          2.60603471]),\n",
              "  array([-3.93160217, -3.4506433 , -3.27152612, -3.20243503, -2.96132775,\n",
              "         -2.89132775, -2.6043326 , -2.57918874, -2.12589618, -2.09542019,\n",
              "         -2.06297058, -2.04290782, -1.98938072, -1.95388639, -1.93010775,\n",
              "         -1.85856065, -1.77528458, -1.77260362, -1.72114907, -1.71673914,\n",
              "         -1.7114102 , -1.7072582 , -1.6824813 , -1.65519204, -1.61606477,\n",
              "         -1.60882178, -1.55989289, -1.53211434, -1.50240525, -1.44519204,\n",
              "         -1.42574088, -1.39947965, -1.36823996, -1.35928128, -1.34361517,\n",
              "         -1.3049474 , -1.28643173, -1.27929137, -1.18485486, -1.11718215,\n",
              "         -1.11485486, -1.10431931, -1.06260042, -1.06240205, -1.04240525,\n",
              "         -1.0418697 , -1.01136393, -0.99027634, -0.92337053, -0.90565154,\n",
              "         -0.89649449, -0.88505003, -0.87070606, -0.86981683, -0.84715237,\n",
              "         -0.78073584, -0.76262011, -0.7374135 , -0.66903664, -0.6463259 ,\n",
              "         -0.63315566, -0.5798631 , -0.56174738, -0.55307961, -0.5509475 ,\n",
              "         -0.54799532, -0.54745657, -0.51353912, -0.51099377, -0.47627963,\n",
              "         -0.44497718, -0.42604508, -0.41977056, -0.4184846 , -0.32366144,\n",
              "         -0.25724491, -0.25503994, -0.24549944, -0.2009475 , -0.1435657 ,\n",
              "         -0.11303014, -0.09546646, -0.06947645, -0.05430282,  0.04955507,\n",
              "          0.06580621,  0.0767385 ,  0.12438144,  0.1372113 ,  0.1621302 ,\n",
              "          0.23825582,  0.2673666 ,  0.33895996,  0.36355178,  0.39655662,\n",
              "          0.41010711,  0.54725757,  0.57817657,  0.59032198,  0.68157816,\n",
              "          0.70189885,  0.70312525,  0.72001457,  0.78409053,  0.80880466,\n",
              "          0.83050706,  0.90347892,  0.91539298,  0.94019966,  0.95943595,\n",
              "          1.00096656,  1.004441  ,  1.00756817,  1.217674  ,  1.26052035,\n",
              "          1.28860949,  1.42076499,  1.44695337,  1.45568069,  1.5469071 ,\n",
              "          1.58868234,  1.62388896,  1.63471862,  1.67526746,  1.68329384,\n",
              "          1.68799469,  1.73689061,  1.79482445,  1.88071872,  1.92656991,\n",
              "          2.03124098,  2.07157816,  2.09732033,  2.18221954,  2.23745914,\n",
              "          2.26217327,  2.26923438,  2.49710547,  2.53901952,  2.87687731,\n",
              "          2.99871532,  3.05327735,  3.06811701,  3.1652079 ,  3.17245089,\n",
              "          3.28995501,  3.32840792,  3.58626571,  3.6772145 ,  4.24730704,\n",
              "          4.36523768])),\n",
              " (1.6969587695579045, 1.4915260794302497e-15, 0.9916516542061362))"
            ]
          },
          "execution_count": 27,
          "metadata": {},
          "output_type": "execute_result"
        },
        {
          "data": {
            "image/png": "[encoded data removed]",
            "text/plain": [
              "<Figure size 640x480 with 1 Axes>"
            ]
          },
          "metadata": {},
          "output_type": "display_data"
        }
      ],
      "source": [
        "# build predictions on training data\n",
        "predictions_y = lr.predict(X_train_with_intercept)\n",
        "\n",
        "# find residuals\n",
        "r_i = (y_train - predictions_y)\n",
        "\n",
        "# residuals vs predictor in training data\n",
        "figure(figsize=(8,6), dpi=80)\n",
        "plt.scatter(X_train, r_i)\n",
        "plt.title(\"Residuals vs Cost\")\n",
        "plt.xlabel(\"Cost\")\n",
        "plt.show()\n",
        "\n",
        "\n",
        "# Absolute residuals against predictor\n",
        "abs_r_i = np.abs(y_train - predictions_y)\n",
        "figure(figsize=(8,6), dpi=80)\n",
        "plt.scatter(X_train, abs_r_i)\n",
        "plt.title(\"Absolute Residuals Vs Cost\")\n",
        "plt.xlabel(\"Cost\")\n",
        "plt.show()\n",
        "\n",
        "# Normality plot\n",
        "figure(figsize=(8,6), dpi=80)\n",
        "scipy.stats.probplot(r_i, plot=plt)"
      ]
    },
    {
      "cell_type": "markdown",
      "metadata": {
        "id": "46AFFRLgKQrY"
      },
      "source": [
        "Tails might me a little heavy, but overall no clear reason to reject normality expectations. Evaluating normality through histogram of residuals"
      ]
    },
    {
      "cell_type": "code",
      "execution_count": null,
      "metadata": {
        "id": "5TYvqkdgKQrY",
        "outputId": "d6521b7e-3087-4a36-9c57-b02d8ef77d0e"
      },
      "outputs": [
        {
          "data": {
            "image/png": "[encoded data removed]",
            "text/plain": [
              "<Figure size 640x480 with 1 Axes>"
            ]
          },
          "metadata": {},
          "output_type": "display_data"
        }
      ],
      "source": [
        "figure(figsize=(8,6), dpi=80)\n",
        "sns.distplot(r_i, bins=15)\n",
        "plt.title(\"Error Terms\")\n",
        "plt.xlabel(\"y_train - y_train_pred\")\n",
        "plt.show()"
      ]
    },
    {
      "cell_type": "code",
      "execution_count": null,
      "metadata": {
        "id": "oPqe3aknKQrY",
        "outputId": "f4aaa728-b1ee-4971-c478-3375dbb55bf2"
      },
      "outputs": [
        {
          "data": {
            "text/plain": [
              "Text(0.5, 1.0, 'Residual Boxplot')"
            ]
          },
          "execution_count": 29,
          "metadata": {},
          "output_type": "execute_result"
        },
        {
          "data": {
            "image/png": "[encoded data removed]",
            "text/plain": [
              "<Figure size 640x480 with 1 Axes>"
            ]
          },
          "metadata": {},
          "output_type": "display_data"
        }
      ],
      "source": [
        "# Boxplot for outliers\n",
        "figure(figsize=(8,6), dpi=80)\n",
        "plt.boxplot(r_i, boxprops=dict(color='red'))\n",
        "plt.title(\"Residual Boxplot\")"
      ]
    },
    {
      "cell_type": "markdown",
      "metadata": {
        "id": "8RTCbuN-KQrY"
      },
      "source": [
        "Here are the observations from the above plots:    \n",
        "- the residuals vs cost plot shows a good scatter of residuals and no pattern is observed up until 125 or 150 costs. we can say that we have some heteroscedasticity in the higher costs. We'll see how we can tackle it.\n",
        "- the normality of the errors can be seen in the normal probability plot and the histogram. It is more or less normal or bell shaped.\n",
        "- the residual boxplot shows no obvious outliers"
      ]
    },
    {
      "cell_type": "markdown",
      "metadata": {
        "id": "J-G2O8rRKQrY"
      },
      "source": [
        "<div style=\"background-color:#F5F5DC\">\n",
        "<br>\n",
        "\n",
        "\n",
        "**Transformations to avoid non-constant variance**    \n",
        "Non-constant variance can be a problem in linear regression, as the assumption of constant variance of the errors is a key requirement for the ordinary least squares(OLS) method to be unbiased and efficient. When this assumption is violated, the regression coefficients can be inefficient and/or the predictions can be biased. To avoid non-constant variance(heteroscedasticity), there are different data transformations that can be applied.    \n",
        "- Log transformation: This transformation is often used when the variance of the data increases with the mean. A log transformation can be used to stabilize the variance by converting the data into logarithmic values.\n",
        "- Square root transformation: This transformation is also used to stabilize the variance by converting the data into square root values.\n",
        "- Box-cox transformation: This is a statistical transformation that is used to stabilize the variance by transforming the data into values that are closer to a normal distribution. This transformation is a more flexible and powerful transformation compared to the log and square root transformations.\n",
        "- Yeo-Johnson transformation: This is a newer and more flexible version of Box-cox transformation that can handle both positive and negative data values.\n",
        "\n",
        "\n",
        "<br>\n",
        "</div>"
      ]
    },
    {
      "cell_type": "code",
      "execution_count": null,
      "metadata": {
        "id": "9tPMtmu_KQrY",
        "outputId": "24e5d0a7-2e4a-4d0c-f9cc-d7228ef40999"
      },
      "outputs": [
        {
          "name": "stdout",
          "output_type": "stream",
          "text": [
            "51\n",
            "51\n",
            "51\n"
          ]
        }
      ],
      "source": [
        "# Demo of how to deal with non-constant variance through transformations\n",
        "test_residuals = (y_test - y_test_fitted)\n",
        "print(len(y_test))\n",
        "print(len(y_test_fitted))\n",
        "print(len(test_residuals))"
      ]
    },
    {
      "cell_type": "code",
      "execution_count": null,
      "metadata": {
        "id": "kE5KTMrrKQrZ",
        "outputId": "f6691bf9-8d0c-471e-f41d-48c74bc4bab4"
      },
      "outputs": [
        {
          "data": {
            "image/png": "[encoded data removed]",
            "text/plain": [
              "<Figure size 640x480 with 1 Axes>"
            ]
          },
          "metadata": {},
          "output_type": "display_data"
        }
      ],
      "source": [
        "# Residuals Vs Predictors in test set\n",
        "figure(figsize=(8,6), dpi=80)\n",
        "plt.title('Test Residuals Vs Cost')\n",
        "plt.scatter(X_test, test_residuals)\n",
        "plt.xlabel(\"Cost\")\n",
        "plt.ylabel(\"Residuals\")\n",
        "plt.show()"
      ]
    },
    {
      "cell_type": "markdown",
      "metadata": {
        "id": "9WyO0xN-KQrZ"
      },
      "source": [
        "Here, we can see the scatter of data points increases as we increase the cost. This is evidence of Heteroscedasticity. We will try different transformations such as square root, log, and box-cox to see if we can introduce linearity with these transformations."
      ]
    },
    {
      "cell_type": "code",
      "execution_count": null,
      "metadata": {
        "id": "j5J_7kcAKQrZ",
        "outputId": "36135e2a-91c2-4f5d-854e-eb5f2bb9118b"
      },
      "outputs": [
        {
          "data": {
            "text/plain": [
              "<matplotlib.collections.PathCollection at 0x16c57c8e0>"
            ]
          },
          "execution_count": 34,
          "metadata": {},
          "output_type": "execute_result"
        },
        {
          "data": {
            "image/png": "[encoded data removed]",
            "text/plain": [
              "<Figure size 640x480 with 1 Axes>"
            ]
          },
          "metadata": {},
          "output_type": "display_data"
        }
      ],
      "source": [
        "# Try Sqrt\n",
        "sqrt_y = np.sqrt(y)\n",
        "figure(figsize=(8,6), dpi=80)\n",
        "plt.scatter(X, sqrt_y, color=\"red\")\n",
        "\n",
        "# Try Log\n",
        "ln_y = np.log(y)\n",
        "plt.scatter(X, ln_y, color=\"blue\")\n",
        "\n",
        "# Try box-cox\n",
        "bc_y = list(stats.boxcox(y))\n",
        "bc_y = bc_y[0]\n",
        "plt.scatter(X, bc_y, color=\"orange\")"
      ]
    },
    {
      "cell_type": "markdown",
      "metadata": {
        "id": "SgK7E-bgKQrZ"
      },
      "source": [
        "We can observe that the square root transformation denoted by red dots gives the most linear scatter of data points. Let's try to run the linear regression model on the transformed variable and analyze the change in results."
      ]
    },
    {
      "cell_type": "code",
      "execution_count": null,
      "metadata": {
        "id": "J2U_34FKKQra",
        "outputId": "9a67a863-0dde-410d-aa3b-dad2bf2b21bb"
      },
      "outputs": [
        {
          "name": "stdout",
          "output_type": "stream",
          "text": [
            "                            OLS Regression Results                            \n",
            "==============================================================================\n",
            "Dep. Variable:                  Score   R-squared:                       0.895\n",
            "Model:                            OLS   Adj. R-squared:                  0.894\n",
            "Method:                 Least Squares   F-statistic:                     1267.\n",
            "Date:                Tue, 23 May 2023   Prob (F-statistic):           9.72e-75\n",
            "Time:                        15:36:59   Log-Likelihood:                -17.200\n",
            "No. Observations:                 151   AIC:                             38.40\n",
            "Df Residuals:                     149   BIC:                             44.43\n",
            "Df Model:                           1                                         \n",
            "Covariance Type:            nonrobust                                         \n",
            "==============================================================================\n",
            "                 coef    std err          t      P>|t|      [0.025      0.975]\n",
            "------------------------------------------------------------------------------\n",
            "const          1.9674      0.052     37.683      0.000       1.864       2.071\n",
            "Cost           0.0234      0.001     35.594      0.000       0.022       0.025\n",
            "==============================================================================\n",
            "Omnibus:                        1.648   Durbin-Watson:                   1.821\n",
            "Prob(Omnibus):                  0.439   Jarque-Bera (JB):                1.360\n",
            "Skew:                           0.032   Prob(JB):                        0.507\n",
            "Kurtosis:                       2.539   Cond. No.                         186.\n",
            "==============================================================================\n",
            "\n",
            "Notes:\n",
            "[1] Standard Errors assume that the covariance matrix of the errors is correctly specified.\n"
          ]
        }
      ],
      "source": [
        "# Run regression on this set\n",
        "X_train, X_test, y_train, y_test = train_test_split(\n",
        "    X, sqrt_y,\n",
        "    train_size = 0.75,\n",
        "    test_size = 0.25,\n",
        "    random_state = 100\n",
        ")\n",
        "\n",
        "# force intercept term\n",
        "X_train_with_intercept = sm.add_constant(X_train)\n",
        "lr = sm.OLS(y_train, X_train_with_intercept).fit()\n",
        "print(lr.summary())"
      ]
    },
    {
      "cell_type": "markdown",
      "metadata": {
        "id": "vZnSnUuyKQra"
      },
      "source": [
        "Here, we can see the change in $R^2$ and adjusted $R^2$ after the transformation. They are almost similar which suggests that $R^2$ is no longer overestimating the variance explained by the predictor variable."
      ]
    },
    {
      "cell_type": "code",
      "execution_count": null,
      "metadata": {
        "id": "J2O7FSQOKQra",
        "outputId": "2f999072-7f0a-4e70-cc9b-d7e6e5133816"
      },
      "outputs": [
        {
          "name": "stdout",
          "output_type": "stream",
          "text": [
            "const    1.967367\n",
            "Cost     0.023433\n",
            "dtype: float64\n"
          ]
        },
        {
          "data": {
            "image/png": "[encoded data removed]",
            "text/plain": [
              "<Figure size 640x480 with 1 Axes>"
            ]
          },
          "metadata": {},
          "output_type": "display_data"
        },
        {
          "data": {
            "image/png": "[encoded data removed]",
            "text/plain": [
              "<Figure size 640x480 with 1 Axes>"
            ]
          },
          "metadata": {},
          "output_type": "display_data"
        },
        {
          "name": "stdout",
          "output_type": "stream",
          "text": [
            "51\n",
            "51\n",
            "51\n"
          ]
        },
        {
          "data": {
            "image/png": "[encoded data removed]",
            "text/plain": [
              "<Figure size 640x480 with 1 Axes>"
            ]
          },
          "metadata": {},
          "output_type": "display_data"
        }
      ],
      "source": [
        "# Extract the b0, b1\n",
        "print(lr.params)\n",
        "b0 = lr.params[0]\n",
        "b1 = lr.params[1]\n",
        "\n",
        "# Plot the fitted line on training data\n",
        "figure(figsize=(8,6), dpi=80)\n",
        "plt.scatter(X_train, y_train)\n",
        "plt.plot(X_train, b0+b1*X_train, 'r')\n",
        "plt.xlabel('Cost')\n",
        "plt.ylabel('Score')\n",
        "plt.title(\"Regression line through the Training data\")\n",
        "plt.show()\n",
        "\n",
        "\n",
        "# Plot the fitted line on test data\n",
        "X_test_with_intercept = sm.add_constant(X_test)\n",
        "y_test_fitted = lr.predict(X_test_with_intercept)\n",
        "\n",
        "figure(figsize=(8,6), dpi=80)\n",
        "plt.scatter(X_test, y_test)\n",
        "plt.plot(X_test, y_test_fitted, 'r')\n",
        "plt.show()\n",
        "\n",
        "\n",
        "# Diagnostics: Evaluate variance\n",
        "test_residuals = (y_test - y_test_fitted)\n",
        "print(len(y_test))\n",
        "print(len(y_test_fitted))\n",
        "print(len(test_residuals))\n",
        "\n",
        "\n",
        "# Plot Residuals vs Predictor\n",
        "figure(figsize=(8,6), dpi=80)\n",
        "plt.title(\"Residuals Vs Cost\")\n",
        "plt.scatter(X_test, test_residuals)\n",
        "plt.xlabel(\"Cost\")\n",
        "plt.show()"
      ]
    },
    {
      "cell_type": "markdown",
      "metadata": {
        "id": "XU7DmUwrKQra"
      },
      "source": [
        "Here's the same exercise but for the test dataset. Observe that the range of test data is within the train data and the maximum cost is 120, hence the regression line fits in the best way possible."
      ]
    },
    {
      "cell_type": "markdown",
      "metadata": {
        "id": "Boss0PspKQra"
      },
      "source": [
        "# Multiple Linear Regression"
      ]
    },
    {
      "cell_type": "code",
      "execution_count": null,
      "metadata": {
        "id": "xJC_gfZgKQra"
      },
      "outputs": [],
      "source": [
        "# load the data from the /input folder\n",
        "soccer_data = \"../input/EPL_Soccer_MLR_LR.csv\"\n",
        "df = pd.read_csv(soccer_data)"
      ]
    },
    {
      "cell_type": "markdown",
      "metadata": {
        "id": "alKyn5MpKQra"
      },
      "source": [
        "**Correlation Matrix**"
      ]
    },
    {
      "cell_type": "code",
      "execution_count": null,
      "metadata": {
        "id": "51sNsTw4KQra",
        "outputId": "aaee6860-780e-4ee7-e90b-b2466cb02bb6"
      },
      "outputs": [
        {
          "data": {
            "text/html": [
              "<div>\n",
              "<style scoped>\n",
              "    .dataframe tbody tr th:only-of-type {\n",
              "        vertical-align: middle;\n",
              "    }\n",
              "\n",
              "    .dataframe tbody tr th {\n",
              "        vertical-align: top;\n",
              "    }\n",
              "\n",
              "    .dataframe thead th {\n",
              "        text-align: right;\n",
              "    }\n",
              "</style>\n",
              "<table border=\"1\" class=\"dataframe\">\n",
              "  <thead>\n",
              "    <tr style=\"text-align: right;\">\n",
              "      <th></th>\n",
              "      <th>DistanceCovered(InKms)</th>\n",
              "      <th>Goals</th>\n",
              "      <th>MinutestoGoalRatio</th>\n",
              "      <th>ShotsPerGame</th>\n",
              "      <th>AgentCharges</th>\n",
              "      <th>BMI</th>\n",
              "      <th>Cost</th>\n",
              "      <th>PreviousClubCost</th>\n",
              "      <th>Height</th>\n",
              "      <th>Weight</th>\n",
              "      <th>Score</th>\n",
              "    </tr>\n",
              "  </thead>\n",
              "  <tbody>\n",
              "    <tr>\n",
              "      <th>DistanceCovered(InKms)</th>\n",
              "      <td>1.000000</td>\n",
              "      <td>0.147098</td>\n",
              "      <td>0.924964</td>\n",
              "      <td>0.888800</td>\n",
              "      <td>0.250865</td>\n",
              "      <td>0.299471</td>\n",
              "      <td>-0.403004</td>\n",
              "      <td>0.550975</td>\n",
              "      <td>0.358854</td>\n",
              "      <td>0.403743</td>\n",
              "      <td>-0.493512</td>\n",
              "    </tr>\n",
              "    <tr>\n",
              "      <th>Goals</th>\n",
              "      <td>0.147098</td>\n",
              "      <td>1.000000</td>\n",
              "      <td>0.153333</td>\n",
              "      <td>0.134721</td>\n",
              "      <td>0.131973</td>\n",
              "      <td>0.177032</td>\n",
              "      <td>0.137131</td>\n",
              "      <td>0.102734</td>\n",
              "      <td>0.076958</td>\n",
              "      <td>0.155844</td>\n",
              "      <td>0.108114</td>\n",
              "    </tr>\n",
              "    <tr>\n",
              "      <th>MinutestoGoalRatio</th>\n",
              "      <td>0.924964</td>\n",
              "      <td>0.153333</td>\n",
              "      <td>1.000000</td>\n",
              "      <td>0.950757</td>\n",
              "      <td>0.258240</td>\n",
              "      <td>0.320527</td>\n",
              "      <td>-0.449135</td>\n",
              "      <td>0.583375</td>\n",
              "      <td>0.371192</td>\n",
              "      <td>0.423699</td>\n",
              "      <td>-0.532449</td>\n",
              "    </tr>\n",
              "    <tr>\n",
              "      <th>ShotsPerGame</th>\n",
              "      <td>0.888800</td>\n",
              "      <td>0.134721</td>\n",
              "      <td>0.950757</td>\n",
              "      <td>1.000000</td>\n",
              "      <td>0.308391</td>\n",
              "      <td>0.382524</td>\n",
              "      <td>-0.435429</td>\n",
              "      <td>0.610986</td>\n",
              "      <td>0.352322</td>\n",
              "      <td>0.455255</td>\n",
              "      <td>-0.531522</td>\n",
              "    </tr>\n",
              "    <tr>\n",
              "      <th>AgentCharges</th>\n",
              "      <td>0.250865</td>\n",
              "      <td>0.131973</td>\n",
              "      <td>0.258240</td>\n",
              "      <td>0.308391</td>\n",
              "      <td>1.000000</td>\n",
              "      <td>0.302556</td>\n",
              "      <td>-0.108243</td>\n",
              "      <td>0.317581</td>\n",
              "      <td>0.123255</td>\n",
              "      <td>0.273686</td>\n",
              "      <td>-0.183386</td>\n",
              "    </tr>\n",
              "    <tr>\n",
              "      <th>BMI</th>\n",
              "      <td>0.299471</td>\n",
              "      <td>0.177032</td>\n",
              "      <td>0.320527</td>\n",
              "      <td>0.382524</td>\n",
              "      <td>0.302556</td>\n",
              "      <td>1.000000</td>\n",
              "      <td>0.321116</td>\n",
              "      <td>0.713858</td>\n",
              "      <td>0.337097</td>\n",
              "      <td>0.845955</td>\n",
              "      <td>0.187558</td>\n",
              "    </tr>\n",
              "    <tr>\n",
              "      <th>Cost</th>\n",
              "      <td>-0.403004</td>\n",
              "      <td>0.137131</td>\n",
              "      <td>-0.449135</td>\n",
              "      <td>-0.435429</td>\n",
              "      <td>-0.108243</td>\n",
              "      <td>0.321116</td>\n",
              "      <td>1.000000</td>\n",
              "      <td>-0.207749</td>\n",
              "      <td>-0.071253</td>\n",
              "      <td>0.154227</td>\n",
              "      <td>0.963017</td>\n",
              "    </tr>\n",
              "    <tr>\n",
              "      <th>PreviousClubCost</th>\n",
              "      <td>0.550975</td>\n",
              "      <td>0.102734</td>\n",
              "      <td>0.583375</td>\n",
              "      <td>0.610986</td>\n",
              "      <td>0.317581</td>\n",
              "      <td>0.713858</td>\n",
              "      <td>-0.207749</td>\n",
              "      <td>1.000000</td>\n",
              "      <td>0.802119</td>\n",
              "      <td>0.930904</td>\n",
              "      <td>-0.361850</td>\n",
              "    </tr>\n",
              "    <tr>\n",
              "      <th>Height</th>\n",
              "      <td>0.358854</td>\n",
              "      <td>0.076958</td>\n",
              "      <td>0.371192</td>\n",
              "      <td>0.352322</td>\n",
              "      <td>0.123255</td>\n",
              "      <td>0.337097</td>\n",
              "      <td>-0.071253</td>\n",
              "      <td>0.802119</td>\n",
              "      <td>1.000000</td>\n",
              "      <td>0.780906</td>\n",
              "      <td>-0.188022</td>\n",
              "    </tr>\n",
              "    <tr>\n",
              "      <th>Weight</th>\n",
              "      <td>0.403743</td>\n",
              "      <td>0.155844</td>\n",
              "      <td>0.423699</td>\n",
              "      <td>0.455255</td>\n",
              "      <td>0.273686</td>\n",
              "      <td>0.845955</td>\n",
              "      <td>0.154227</td>\n",
              "      <td>0.930904</td>\n",
              "      <td>0.780906</td>\n",
              "      <td>1.000000</td>\n",
              "      <td>-0.000162</td>\n",
              "    </tr>\n",
              "    <tr>\n",
              "      <th>Score</th>\n",
              "      <td>-0.493512</td>\n",
              "      <td>0.108114</td>\n",
              "      <td>-0.532449</td>\n",
              "      <td>-0.531522</td>\n",
              "      <td>-0.183386</td>\n",
              "      <td>0.187558</td>\n",
              "      <td>0.963017</td>\n",
              "      <td>-0.361850</td>\n",
              "      <td>-0.188022</td>\n",
              "      <td>-0.000162</td>\n",
              "      <td>1.000000</td>\n",
              "    </tr>\n",
              "  </tbody>\n",
              "</table>\n",
              "</div>"
            ],
            "text/plain": [
              "                        DistanceCovered(InKms)     Goals  MinutestoGoalRatio   \n",
              "DistanceCovered(InKms)                1.000000  0.147098            0.924964  \\\n",
              "Goals                                 0.147098  1.000000            0.153333   \n",
              "MinutestoGoalRatio                    0.924964  0.153333            1.000000   \n",
              "ShotsPerGame                          0.888800  0.134721            0.950757   \n",
              "AgentCharges                          0.250865  0.131973            0.258240   \n",
              "BMI                                   0.299471  0.177032            0.320527   \n",
              "Cost                                 -0.403004  0.137131           -0.449135   \n",
              "PreviousClubCost                      0.550975  0.102734            0.583375   \n",
              "Height                                0.358854  0.076958            0.371192   \n",
              "Weight                                0.403743  0.155844            0.423699   \n",
              "Score                                -0.493512  0.108114           -0.532449   \n",
              "\n",
              "                        ShotsPerGame  AgentCharges       BMI      Cost   \n",
              "DistanceCovered(InKms)      0.888800      0.250865  0.299471 -0.403004  \\\n",
              "Goals                       0.134721      0.131973  0.177032  0.137131   \n",
              "MinutestoGoalRatio          0.950757      0.258240  0.320527 -0.449135   \n",
              "ShotsPerGame                1.000000      0.308391  0.382524 -0.435429   \n",
              "AgentCharges                0.308391      1.000000  0.302556 -0.108243   \n",
              "BMI                         0.382524      0.302556  1.000000  0.321116   \n",
              "Cost                       -0.435429     -0.108243  0.321116  1.000000   \n",
              "PreviousClubCost            0.610986      0.317581  0.713858 -0.207749   \n",
              "Height                      0.352322      0.123255  0.337097 -0.071253   \n",
              "Weight                      0.455255      0.273686  0.845955  0.154227   \n",
              "Score                      -0.531522     -0.183386  0.187558  0.963017   \n",
              "\n",
              "                        PreviousClubCost    Height    Weight     Score  \n",
              "DistanceCovered(InKms)          0.550975  0.358854  0.403743 -0.493512  \n",
              "Goals                           0.102734  0.076958  0.155844  0.108114  \n",
              "MinutestoGoalRatio              0.583375  0.371192  0.423699 -0.532449  \n",
              "ShotsPerGame                    0.610986  0.352322  0.455255 -0.531522  \n",
              "AgentCharges                    0.317581  0.123255  0.273686 -0.183386  \n",
              "BMI                             0.713858  0.337097  0.845955  0.187558  \n",
              "Cost                           -0.207749 -0.071253  0.154227  0.963017  \n",
              "PreviousClubCost                1.000000  0.802119  0.930904 -0.361850  \n",
              "Height                          0.802119  1.000000  0.780906 -0.188022  \n",
              "Weight                          0.930904  0.780906  1.000000 -0.000162  \n",
              "Score                          -0.361850 -0.188022 -0.000162  1.000000  "
            ]
          },
          "execution_count": 77,
          "metadata": {},
          "output_type": "execute_result"
        }
      ],
      "source": [
        "corr = df.iloc[:, 2:].corr()\n",
        "corr"
      ]
    },
    {
      "cell_type": "markdown",
      "metadata": {
        "id": "G_ZdxzwTKQrb"
      },
      "source": [
        "**Correlation Heatmap**      \n",
        "It is great for data analysis since they show differences and variances in the same data while making patterns clearly possible."
      ]
    },
    {
      "cell_type": "code",
      "execution_count": null,
      "metadata": {
        "id": "81ddCJr1KQrb",
        "outputId": "fc8e42d2-23fe-453d-f413-6dd0eb905106"
      },
      "outputs": [
        {
          "data": {
            "text/plain": [
              "[Text(0.5, 0, 'DistanceCovered(InKms)'),\n",
              " Text(1.5, 0, 'Goals'),\n",
              " Text(2.5, 0, 'MinutestoGoalRatio'),\n",
              " Text(3.5, 0, 'ShotsPerGame'),\n",
              " Text(4.5, 0, 'AgentCharges'),\n",
              " Text(5.5, 0, 'BMI'),\n",
              " Text(6.5, 0, 'Cost'),\n",
              " Text(7.5, 0, 'PreviousClubCost'),\n",
              " Text(8.5, 0, 'Height'),\n",
              " Text(9.5, 0, 'Weight'),\n",
              " Text(10.5, 0, 'Score')]"
            ]
          },
          "execution_count": 56,
          "metadata": {},
          "output_type": "execute_result"
        },
        {
          "data": {
            "image/png": "[encoded data removed]",
            "text/plain": [
              "<Figure size 640x480 with 2 Axes>"
            ]
          },
          "metadata": {},
          "output_type": "display_data"
        }
      ],
      "source": [
        "# sns.heatmap(corr, vmin, vmax, cmap, annot, square)\n",
        "plt.figure(figsize=(8,6), dpi=80)\n",
        "ax = sns.heatmap(\n",
        "    corr,\n",
        "    vmin=-1,\n",
        "    vmax=1,\n",
        "    center=0,\n",
        "    cmap=sns.diverging_palette(20,220,n=200),\n",
        "    square= True,\n",
        "    annot= True\n",
        ")\n",
        "\n",
        "ax.set_xticklabels(\n",
        "    ax.get_xticklabels(),\n",
        "    rotation=45,\n",
        "    horizontalalignment='right'\n",
        ")"
      ]
    },
    {
      "cell_type": "markdown",
      "metadata": {
        "id": "mGSgAch3KQrb"
      },
      "source": [
        "From the correlation heatmap, height and weight has -0.19 and 0.00016 respectively which are weakly correlated with Score (our dependent variable). Some are highly multicollinear predictors are:      \n",
        "* MinutestoGoalRatio and ShotsPerGame -> Remove MinutestoGoalRatio\n",
        "* PreviousClubCost, Height, Weight -> Discard height and weight, keep PreviousClubCost"
      ]
    },
    {
      "cell_type": "code",
      "execution_count": null,
      "metadata": {
        "id": "XYLK71j0KQrb"
      },
      "outputs": [],
      "source": [
        "# Extract predictor variables and remove categorical variables\n",
        "X = df[['DistanceCovered(InKms)', 'Goals',\n",
        "       'ShotsPerGame', 'AgentCharges', 'BMI', 'Cost',\n",
        "       'PreviousClubCost']]\n",
        "y = df['Score']"
      ]
    },
    {
      "cell_type": "markdown",
      "metadata": {
        "id": "-q6MVZIcKQrb"
      },
      "source": [
        "**Train-Test split**"
      ]
    },
    {
      "cell_type": "code",
      "execution_count": null,
      "metadata": {
        "id": "QuRlFP7CKQrb"
      },
      "outputs": [],
      "source": [
        "X_train, X_test, y_train, y_test = train_test_split(X, y, train_size=0.75, test_size=0.25, random_state=100)"
      ]
    },
    {
      "cell_type": "markdown",
      "metadata": {
        "id": "ypnt8zOUKQrb"
      },
      "source": [
        "**Fit the linear regression model**"
      ]
    },
    {
      "cell_type": "code",
      "execution_count": null,
      "metadata": {
        "id": "0vwAsSEqKQrb",
        "outputId": "8b491bce-d69d-4af0-e2f7-bdbaf8593bf9"
      },
      "outputs": [
        {
          "name": "stdout",
          "output_type": "stream",
          "text": [
            "                            OLS Regression Results                            \n",
            "==============================================================================\n",
            "Dep. Variable:                  Score   R-squared:                       0.959\n",
            "Model:                            OLS   Adj. R-squared:                  0.957\n",
            "Method:                 Least Squares   F-statistic:                     476.6\n",
            "Date:                Tue, 30 May 2023   Prob (F-statistic):           9.69e-96\n",
            "Time:                        18:47:55   Log-Likelihood:                -252.91\n",
            "No. Observations:                 151   AIC:                             521.8\n",
            "Df Residuals:                     143   BIC:                             546.0\n",
            "Df Model:                           7                                         \n",
            "Covariance Type:            nonrobust                                         \n",
            "==========================================================================================\n",
            "                             coef    std err          t      P>|t|      [0.025      0.975]\n",
            "------------------------------------------------------------------------------------------\n",
            "const                      9.2052      1.601      5.750      0.000       6.041      12.370\n",
            "DistanceCovered(InKms)    -0.6790      0.563     -1.206      0.230      -1.792       0.434\n",
            "Goals                      0.0279      0.060      0.464      0.643      -0.091       0.147\n",
            "ShotsPerGame              -0.1151      0.191     -0.601      0.548      -0.493       0.263\n",
            "AgentCharges              -0.0023      0.002     -0.939      0.349      -0.007       0.003\n",
            "BMI                        0.1841      0.077      2.386      0.018       0.032       0.337\n",
            "Cost                       0.1612      0.005     31.297      0.000       0.151       0.171\n",
            "PreviousClubCost          -0.0953      0.017     -5.772      0.000      -0.128      -0.063\n",
            "==============================================================================\n",
            "Omnibus:                        7.786   Durbin-Watson:                   1.920\n",
            "Prob(Omnibus):                  0.020   Jarque-Bera (JB):                7.830\n",
            "Skew:                           0.444   Prob(JB):                       0.0199\n",
            "Kurtosis:                       3.675   Cond. No.                     1.95e+03\n",
            "==============================================================================\n",
            "\n",
            "Notes:\n",
            "[1] Standard Errors assume that the covariance matrix of the errors is correctly specified.\n",
            "[2] The condition number is large, 1.95e+03. This might indicate that there are\n",
            "strong multicollinearity or other numerical problems.\n"
          ]
        }
      ],
      "source": [
        "X_train_with_intercept = sm.add_constant(X_train)\n",
        "lr = sm.OLS(y_train, X_train_with_intercept).fit()\n",
        "print(lr.summary())"
      ]
    },
    {
      "cell_type": "markdown",
      "metadata": {
        "id": "CNmrtCcmKQrc"
      },
      "source": [
        "We got coefficient of determination of 0.959 which is pretty great, and the difference between $R^2$ and Adjusted $R^2$ is not very significant which is also a great sign.      \n",
        "Let's try to eliminate some variables and see if we can improve our results."
      ]
    },
    {
      "cell_type": "code",
      "execution_count": null,
      "metadata": {
        "id": "vBiXAIrJKQrc",
        "outputId": "7d16c868-3c58-4c4e-cb69-7f62b93c177d"
      },
      "outputs": [
        {
          "name": "stdout",
          "output_type": "stream",
          "text": [
            "                            OLS Regression Results                            \n",
            "==============================================================================\n",
            "Dep. Variable:                  Score   R-squared:                       0.959\n",
            "Model:                            OLS   Adj. R-squared:                  0.957\n",
            "Method:                 Least Squares   F-statistic:                     843.0\n",
            "Date:                Tue, 30 May 2023   Prob (F-statistic):          9.28e-100\n",
            "Time:                        18:47:56   Log-Likelihood:                -253.64\n",
            "No. Observations:                 151   AIC:                             517.3\n",
            "Df Residuals:                     146   BIC:                             532.4\n",
            "Df Model:                           4                                         \n",
            "Covariance Type:            nonrobust                                         \n",
            "==========================================================================================\n",
            "                             coef    std err          t      P>|t|      [0.025      0.975]\n",
            "------------------------------------------------------------------------------------------\n",
            "const                      9.2171      1.548      5.955      0.000       6.158      12.276\n",
            "DistanceCovered(InKms)    -0.9395      0.323     -2.905      0.004      -1.579      -0.300\n",
            "BMI                        0.1629      0.074      2.200      0.029       0.017       0.309\n",
            "Cost                       0.1628      0.005     33.617      0.000       0.153       0.172\n",
            "PreviousClubCost          -0.0961      0.016     -5.861      0.000      -0.129      -0.064\n",
            "==============================================================================\n",
            "Omnibus:                        7.362   Durbin-Watson:                   1.919\n",
            "Prob(Omnibus):                  0.025   Jarque-Bera (JB):                7.506\n",
            "Skew:                           0.412   Prob(JB):                       0.0234\n",
            "Kurtosis:                       3.717   Cond. No.                     1.50e+03\n",
            "==============================================================================\n",
            "\n",
            "Notes:\n",
            "[1] Standard Errors assume that the covariance matrix of the errors is correctly specified.\n",
            "[2] The condition number is large, 1.5e+03. This might indicate that there are\n",
            "strong multicollinearity or other numerical problems.\n"
          ]
        }
      ],
      "source": [
        "# Can we trim some variables and see how it performs?\n",
        "X_trimmed = df[['DistanceCovered(InKms)', 'BMI', 'Cost', 'PreviousClubCost']]\n",
        "X_train, X_test, y_train, y_test = train_test_split(X_trimmed, y, train_size=0.75, test_size=0.25, random_state=100)\n",
        "\n",
        "X_train_with_intercept = sm.add_constant(X_train)\n",
        "lr = sm.OLS(y_train, X_train_with_intercept).fit()\n",
        "print(lr.summary())"
      ]
    },
    {
      "cell_type": "markdown",
      "metadata": {
        "id": "yY897sP8KQrc"
      },
      "source": [
        "The AIC and BIC both dropped even though we couldn't see much change in $R^2$. This suggest this model is better than the previous one. Let's see if \"Club\" information can throw anything else for us."
      ]
    },
    {
      "cell_type": "markdown",
      "metadata": {
        "id": "Z8iHNBSzKQrc"
      },
      "source": [
        "**One-Hot Encoding**"
      ]
    },
    {
      "cell_type": "code",
      "execution_count": null,
      "metadata": {
        "id": "WeMNDIzBKQrc",
        "outputId": "c48794db-d8c5-46f4-f38a-9525caab2614"
      },
      "outputs": [
        {
          "data": {
            "text/plain": [
              "{'CHE', 'LIV', 'MUN'}"
            ]
          },
          "execution_count": 78,
          "metadata": {},
          "output_type": "execute_result"
        }
      ],
      "source": [
        "# Let's try throwing in club data using dummy variables\n",
        "clubs = set(df.Club)\n",
        "clubs"
      ]
    },
    {
      "cell_type": "code",
      "execution_count": null,
      "metadata": {
        "id": "zyZaElWfKQrd",
        "outputId": "136b55fc-a188-4c92-9265-9d874c5f47fc"
      },
      "outputs": [
        {
          "data": {
            "text/html": [
              "<div>\n",
              "<style scoped>\n",
              "    .dataframe tbody tr th:only-of-type {\n",
              "        vertical-align: middle;\n",
              "    }\n",
              "\n",
              "    .dataframe tbody tr th {\n",
              "        vertical-align: top;\n",
              "    }\n",
              "\n",
              "    .dataframe thead th {\n",
              "        text-align: right;\n",
              "    }\n",
              "</style>\n",
              "<table border=\"1\" class=\"dataframe\">\n",
              "  <thead>\n",
              "    <tr style=\"text-align: right;\">\n",
              "      <th></th>\n",
              "      <th>CHE</th>\n",
              "      <th>LIV</th>\n",
              "      <th>MUN</th>\n",
              "    </tr>\n",
              "  </thead>\n",
              "  <tbody>\n",
              "    <tr>\n",
              "      <th>0</th>\n",
              "      <td>0</td>\n",
              "      <td>0</td>\n",
              "      <td>1</td>\n",
              "    </tr>\n",
              "    <tr>\n",
              "      <th>1</th>\n",
              "      <td>0</td>\n",
              "      <td>0</td>\n",
              "      <td>1</td>\n",
              "    </tr>\n",
              "    <tr>\n",
              "      <th>2</th>\n",
              "      <td>0</td>\n",
              "      <td>0</td>\n",
              "      <td>1</td>\n",
              "    </tr>\n",
              "    <tr>\n",
              "      <th>3</th>\n",
              "      <td>0</td>\n",
              "      <td>0</td>\n",
              "      <td>1</td>\n",
              "    </tr>\n",
              "    <tr>\n",
              "      <th>4</th>\n",
              "      <td>0</td>\n",
              "      <td>0</td>\n",
              "      <td>1</td>\n",
              "    </tr>\n",
              "  </tbody>\n",
              "</table>\n",
              "</div>"
            ],
            "text/plain": [
              "   CHE  LIV  MUN\n",
              "0    0    0    1\n",
              "1    0    0    1\n",
              "2    0    0    1\n",
              "3    0    0    1\n",
              "4    0    0    1"
            ]
          },
          "execution_count": 93,
          "metadata": {},
          "output_type": "execute_result"
        }
      ],
      "source": [
        "nominal_features = pd.get_dummies(df['Club'], dtype=int)\n",
        "nominal_features.head()"
      ]
    },
    {
      "cell_type": "code",
      "execution_count": null,
      "metadata": {
        "id": "xRi2y-87KQrd",
        "outputId": "073b3bfa-c515-42c7-fdb6-e0bad60fb24e"
      },
      "outputs": [
        {
          "data": {
            "text/html": [
              "<div>\n",
              "<style scoped>\n",
              "    .dataframe tbody tr th:only-of-type {\n",
              "        vertical-align: middle;\n",
              "    }\n",
              "\n",
              "    .dataframe tbody tr th {\n",
              "        vertical-align: top;\n",
              "    }\n",
              "\n",
              "    .dataframe thead th {\n",
              "        text-align: right;\n",
              "    }\n",
              "</style>\n",
              "<table border=\"1\" class=\"dataframe\">\n",
              "  <thead>\n",
              "    <tr style=\"text-align: right;\">\n",
              "      <th></th>\n",
              "      <th>PlayerName</th>\n",
              "      <th>Club</th>\n",
              "      <th>DistanceCovered(InKms)</th>\n",
              "      <th>Goals</th>\n",
              "      <th>MinutestoGoalRatio</th>\n",
              "      <th>ShotsPerGame</th>\n",
              "      <th>AgentCharges</th>\n",
              "      <th>BMI</th>\n",
              "      <th>Cost</th>\n",
              "      <th>PreviousClubCost</th>\n",
              "      <th>Height</th>\n",
              "      <th>Weight</th>\n",
              "      <th>Score</th>\n",
              "      <th>CHE</th>\n",
              "      <th>LIV</th>\n",
              "      <th>MUN</th>\n",
              "    </tr>\n",
              "  </thead>\n",
              "  <tbody>\n",
              "    <tr>\n",
              "      <th>0</th>\n",
              "      <td>Braund, Mr. Owen Harris</td>\n",
              "      <td>MUN</td>\n",
              "      <td>3.96</td>\n",
              "      <td>7.5</td>\n",
              "      <td>37.5</td>\n",
              "      <td>12.3</td>\n",
              "      <td>60</td>\n",
              "      <td>20.56</td>\n",
              "      <td>109.1</td>\n",
              "      <td>63.32</td>\n",
              "      <td>195.9</td>\n",
              "      <td>78.9</td>\n",
              "      <td>19.75</td>\n",
              "      <td>0</td>\n",
              "      <td>0</td>\n",
              "      <td>1</td>\n",
              "    </tr>\n",
              "    <tr>\n",
              "      <th>1</th>\n",
              "      <td>Allen, Mr. William Henry</td>\n",
              "      <td>MUN</td>\n",
              "      <td>4.41</td>\n",
              "      <td>8.3</td>\n",
              "      <td>38.2</td>\n",
              "      <td>12.7</td>\n",
              "      <td>68</td>\n",
              "      <td>20.67</td>\n",
              "      <td>102.8</td>\n",
              "      <td>58.55</td>\n",
              "      <td>189.7</td>\n",
              "      <td>74.4</td>\n",
              "      <td>21.30</td>\n",
              "      <td>0</td>\n",
              "      <td>0</td>\n",
              "      <td>1</td>\n",
              "    </tr>\n",
              "    <tr>\n",
              "      <th>2</th>\n",
              "      <td>Moran, Mr. James</td>\n",
              "      <td>MUN</td>\n",
              "      <td>4.14</td>\n",
              "      <td>5.0</td>\n",
              "      <td>36.4</td>\n",
              "      <td>11.6</td>\n",
              "      <td>21</td>\n",
              "      <td>21.86</td>\n",
              "      <td>104.6</td>\n",
              "      <td>55.36</td>\n",
              "      <td>177.8</td>\n",
              "      <td>69.1</td>\n",
              "      <td>19.88</td>\n",
              "      <td>0</td>\n",
              "      <td>0</td>\n",
              "      <td>1</td>\n",
              "    </tr>\n",
              "    <tr>\n",
              "      <th>3</th>\n",
              "      <td>McCarthy, Mr. Timothy J</td>\n",
              "      <td>MUN</td>\n",
              "      <td>4.11</td>\n",
              "      <td>5.3</td>\n",
              "      <td>37.3</td>\n",
              "      <td>12.6</td>\n",
              "      <td>69</td>\n",
              "      <td>21.88</td>\n",
              "      <td>126.4</td>\n",
              "      <td>57.18</td>\n",
              "      <td>185.0</td>\n",
              "      <td>74.9</td>\n",
              "      <td>23.66</td>\n",
              "      <td>0</td>\n",
              "      <td>0</td>\n",
              "      <td>1</td>\n",
              "    </tr>\n",
              "    <tr>\n",
              "      <th>4</th>\n",
              "      <td>Palsson, Master. Gosta Leonard</td>\n",
              "      <td>MUN</td>\n",
              "      <td>4.45</td>\n",
              "      <td>6.8</td>\n",
              "      <td>41.5</td>\n",
              "      <td>14.0</td>\n",
              "      <td>29</td>\n",
              "      <td>18.96</td>\n",
              "      <td>80.3</td>\n",
              "      <td>53.20</td>\n",
              "      <td>184.6</td>\n",
              "      <td>64.6</td>\n",
              "      <td>17.64</td>\n",
              "      <td>0</td>\n",
              "      <td>0</td>\n",
              "      <td>1</td>\n",
              "    </tr>\n",
              "  </tbody>\n",
              "</table>\n",
              "</div>"
            ],
            "text/plain": [
              "                       PlayerName Club  DistanceCovered(InKms)  Goals   \n",
              "0         Braund, Mr. Owen Harris  MUN                    3.96    7.5  \\\n",
              "1        Allen, Mr. William Henry  MUN                    4.41    8.3   \n",
              "2                Moran, Mr. James  MUN                    4.14    5.0   \n",
              "3         McCarthy, Mr. Timothy J  MUN                    4.11    5.3   \n",
              "4  Palsson, Master. Gosta Leonard  MUN                    4.45    6.8   \n",
              "\n",
              "   MinutestoGoalRatio  ShotsPerGame  AgentCharges    BMI   Cost   \n",
              "0                37.5          12.3            60  20.56  109.1  \\\n",
              "1                38.2          12.7            68  20.67  102.8   \n",
              "2                36.4          11.6            21  21.86  104.6   \n",
              "3                37.3          12.6            69  21.88  126.4   \n",
              "4                41.5          14.0            29  18.96   80.3   \n",
              "\n",
              "   PreviousClubCost  Height  Weight  Score  CHE  LIV  MUN  \n",
              "0             63.32   195.9    78.9  19.75    0    0    1  \n",
              "1             58.55   189.7    74.4  21.30    0    0    1  \n",
              "2             55.36   177.8    69.1  19.88    0    0    1  \n",
              "3             57.18   185.0    74.9  23.66    0    0    1  \n",
              "4             53.20   184.6    64.6  17.64    0    0    1  "
            ]
          },
          "execution_count": 94,
          "metadata": {},
          "output_type": "execute_result"
        }
      ],
      "source": [
        "df_encoded = pd.concat([df, nominal_features], axis=1)\n",
        "df_encoded.head()"
      ]
    },
    {
      "cell_type": "code",
      "execution_count": null,
      "metadata": {
        "id": "wMaYmPUPKQrd"
      },
      "outputs": [],
      "source": [
        "# Run with club encoding\n",
        "X=df_encoded[['DistanceCovered(InKms)', 'BMI', 'Cost','PreviousClubCost','CHE','MUN','LIV']]\n",
        "\n",
        "X_train, X_test, y_train, y_test = train_test_split(X, y, train_size = 0.75, test_size = 0.25, random_state = 100)\n",
        "\n",
        "X_train_with_intercept = sm.add_constant(X_train)"
      ]
    },
    {
      "cell_type": "code",
      "execution_count": null,
      "metadata": {
        "id": "rkzeuie0KQrd",
        "outputId": "fb55654c-9a08-47c8-91c3-dd45f918f872"
      },
      "outputs": [
        {
          "name": "stdout",
          "output_type": "stream",
          "text": [
            "                            OLS Regression Results                            \n",
            "==============================================================================\n",
            "Dep. Variable:                  Score   R-squared:                       0.966\n",
            "Model:                            OLS   Adj. R-squared:                  0.965\n",
            "Method:                 Least Squares   F-statistic:                     691.4\n",
            "Date:                Tue, 30 May 2023   Prob (F-statistic):          1.79e-103\n",
            "Time:                        18:55:05   Log-Likelihood:                -237.58\n",
            "No. Observations:                 151   AIC:                             489.2\n",
            "Df Residuals:                     144   BIC:                             510.3\n",
            "Df Model:                           6                                         \n",
            "Covariance Type:            nonrobust                                         \n",
            "==========================================================================================\n",
            "                             coef    std err          t      P>|t|      [0.025      0.975]\n",
            "------------------------------------------------------------------------------------------\n",
            "const                      3.9020      1.180      3.306      0.001       1.569       6.235\n",
            "DistanceCovered(InKms)    -0.3125      0.316     -0.989      0.324      -0.937       0.312\n",
            "BMI                        0.2677      0.070      3.826      0.000       0.129       0.406\n",
            "Cost                       0.1459      0.005     27.435      0.000       0.135       0.156\n",
            "PreviousClubCost          -0.0984      0.015     -6.578      0.000      -0.128      -0.069\n",
            "CHE                        0.9915      0.424      2.336      0.021       0.153       1.830\n",
            "MUN                        2.5777      0.363      7.109      0.000       1.861       3.294\n",
            "LIV                        0.3328      0.510      0.652      0.515      -0.676       1.341\n",
            "==============================================================================\n",
            "Omnibus:                        2.294   Durbin-Watson:                   2.128\n",
            "Prob(Omnibus):                  0.318   Jarque-Bera (JB):                1.891\n",
            "Skew:                           0.260   Prob(JB):                        0.389\n",
            "Kurtosis:                       3.174   Cond. No.                     4.09e+17\n",
            "==============================================================================\n",
            "\n",
            "Notes:\n",
            "[1] Standard Errors assume that the covariance matrix of the errors is correctly specified.\n",
            "[2] The smallest eigenvalue is 9.47e-30. This might indicate that there are\n",
            "strong multicollinearity problems or that the design matrix is singular.\n"
          ]
        }
      ],
      "source": [
        "lr = sm.OLS(y_train, X_train_with_intercept).fit()\n",
        "print(lr.summary())"
      ]
    },
    {
      "cell_type": "markdown",
      "metadata": {
        "id": "pzG8I8PQKQrd"
      },
      "source": [
        "Including the club feature significantly improved the model as we got $R^2$ as 0.966 and AIC and BIC dropped significantly."
      ]
    },
    {
      "cell_type": "code",
      "execution_count": null,
      "metadata": {
        "id": "WF4S6vXaKQrd",
        "outputId": "8c1e6405-4bc5-4a71-807f-344c54be7b79"
      },
      "outputs": [
        {
          "data": {
            "image/png": "[encoded data removed]",
            "text/plain": [
              "<Figure size 640x480 with 1 Axes>"
            ]
          },
          "metadata": {},
          "output_type": "display_data"
        }
      ],
      "source": [
        "#Look at model plot\n",
        "plt.figure(figsize=(8, 6), dpi=80)\n",
        "x_test_with_intercept = sm.add_constant(x_test)\n",
        "y_test_fitted = lr.predict(x_test_with_intercept)\n",
        "\n",
        "#plot the scatter plot between the fitted values and actual test values for repsonse variable\n",
        "plt.scatter(y_test_fitted, y_test)\n",
        "plt.xlabel(\"Y Predicted\")\n",
        "plt.ylabel(\"Y Actual\")\n",
        "plt.title(\"Scatter plot between Fitted and Actual Test Values\")\n",
        "plt.show()"
      ]
    },
    {
      "cell_type": "markdown",
      "metadata": {
        "id": "qZPJM1o6KQre"
      },
      "source": [
        "<div style=\"background-color:#F5F5DC\">\n",
        "<br>\n",
        "\n",
        "**Conclusion**    \n",
        "\n",
        "With a Simple and Multiple Linear Regression problem statement, we learned the fundamentals of Linear regression by predicting the scores of soccer players. We grasped the assumptions for linear regression and how to diagnose and correct data errors related to the assumptions.     \n",
        "\n",
        "**Linear Regression in Real Life**     \n",
        "There are many real-world applications of linear regression, such as:\n",
        "1. For professional sports teams, analysts use linear regression to gauge the impact of various training schedules on player performance. For instance data scientists in NBA may examine how various frequencies of yoga and weightlifting sessions each week affect a player's point total. With yoga and weighlifting sessions as the predictor variables and total points earned as the response variable, they could fit a multiple linear regression model.\n",
        "2. A common method used by agricultural scientists to assess how fertilizer and water affect crop yields is Linear Regression. For instance, researchers may vary the water and fertilizer applications in various fields to observe the effects on crop yield. A multiple linear regression model can be used with crop yield as the target variable and fertilizer and water as the predictor variables.\n",
        "3. Everything has a shelf life; humans are not an exception. We can store vast amounts of information about a person's medical history and estimate how long they will live thanks to ongoing improvements in medical science technology and diagnostic tools. The term \"life expectancy\" describes the number of years one can expect to live. This application is frequently used by insurance companies and public healthcare organizations to increase their productivity and achieve organizational goals.\n",
        "\n",
        "<br>\n",
        "</div>"
      ]
    },
    {
      "cell_type": "markdown",
      "metadata": {
        "id": "roTrNQP2KQre"
      },
      "source": [
        "<b><center>Thank you</center>\n",
        "</br>\n",
        "<center>Author: Sai Kumar Aili</center>\n",
        "</b>"
      ]
    }
  ],
  "metadata": {
    "kernelspec": {
      "display_name": "env",
      "language": "python",
      "name": "python3"
    },
    "language_info": {
      "codemirror_mode": {
        "name": "ipython",
        "version": 3
      },
      "file_extension": ".py",
      "mimetype": "text/x-python",
      "name": "python",
      "nbconvert_exporter": "python",
      "pygments_lexer": "ipython3",
      "version": "3.9.6"
    },
    "orig_nbformat": 4,
    "colab": {
      "provenance": [],
      "include_colab_link": true
    }
  },
  "nbformat": 4,
  "nbformat_minor": 0
}